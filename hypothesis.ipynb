{
 "cells": [
  {
   "cell_type": "code",
   "execution_count": 29,
   "id": "3ac4b73c-3ea4-47a7-b175-2e39964ab6fb",
   "metadata": {},
   "outputs": [],
   "source": [
    "import pandas as pd\n",
    "import os\n",
    "import pandas as pd\n",
    "import matplotlib.pyplot as plt\n",
    "import numpy as np\n",
    "import statsmodels.api as sm\n",
    "import seaborn as sns\n",
    "\n",
    "import matplotlib as mpl\n",
    "mpl.rcParams['agg.path.chunksize'] = 10000 # avoid matplotlib overflow error\n",
    "mpl.rcParams['font.family'] = 'serif'\n",
    "mpl.rcParams['font.size'] = '11'"
   ]
  },
  {
   "cell_type": "code",
   "execution_count": 2,
   "id": "3f92f34c-5553-45a4-895d-8a4a22437614",
   "metadata": {},
   "outputs": [],
   "source": [
    "# pred_files = os.listdir(\"./output/csvs\")"
   ]
  },
  {
   "cell_type": "code",
   "execution_count": 3,
   "id": "70b5d052-c4c3-461d-a40a-01aff29b5156",
   "metadata": {},
   "outputs": [],
   "source": [
    "# def qq_manual(model, dataset, s1, s2):\n",
    "#     plt.scatter(s1, s2)\n",
    "#     # sm.qqplot_2samples(s1, s2, line='s')\n",
    "#     plt.title(\"%s-%s\"%(model, dataset))\n",
    "#     plt.xlabel('y')\n",
    "#     plt.ylabel('y_pred')\n",
    "#     # plt.title('QQ Plot of series1 vs series2')\n",
    "#     plt.grid(True)"
   ]
  },
  {
   "cell_type": "markdown",
   "id": "64f20020-4a9c-44a1-af20-ba30a2b9a397",
   "metadata": {},
   "source": [
    "# Create error file for all experiments"
   ]
  },
  {
   "cell_type": "code",
   "execution_count": 4,
   "id": "9521c8eb-4d6e-41ff-9d49-3f692e133fee",
   "metadata": {
    "scrolled": true
   },
   "outputs": [],
   "source": [
    "# # Create error file for all experiments\n",
    "# from tools.dataset import get_dataset\n",
    "# from tools.models import get_model_trainer\n",
    "# from tools.preprocess import timeseries_split\n",
    "# missing = []\n",
    "# df = pd.DataFrame(columns = [\"error\", \"type\", \"model\", \"dataset\", \"extra_feature\"])\n",
    "# for is_extra_feature_enabled in [True, False]:\n",
    "#     extra_feat_txt = \"-exf\" if is_extra_feature_enabled else \"\"\n",
    "#     for dataset_name in [\"online_retail\", \"online_retail_2\", \"product_demand\", \"future_sales\", \"livestock_meat_import\"]:\n",
    "#         idx = 1\n",
    "#         for model_name in [\"xgboost\", \"explainable_boosting\", \"ssl+tabnet\", \"tabnet\"]:\n",
    "#             try:\n",
    "#                 idx+=1\n",
    "#                 filename1 = f\"./output/csvs/{dataset_name}_{model_name}_train{extra_feat_txt}.csv\"\n",
    "#                 filename2 = f\"./output/csvs/{dataset_name}_{model_name}_test{extra_feat_txt}.csv\"\n",
    "#                 df_train = pd.read_csv(filename1)\n",
    "#                 df_test = pd.read_csv(filename2)\n",
    "#                 y_train, y_train_pred = df_train['y'], df_train['y_pred']\n",
    "#                 y_test, y_test_pred = df_test['y'], df_test['y_pred']\n",
    "#                 df1 = pd.DataFrame(dict(error=y_train - y_train_pred, type=\"train\", model=model_name, dataset=dataset_name, extra_feature=is_extra_feature_enabled))\n",
    "#                 df2 = pd.DataFrame(dict(error=y_test - y_test_pred, type=\"test\", model=model_name, dataset=dataset_name, extra_feature=is_extra_feature_enabled))\n",
    "#                 df = pd.concat([df, df1, df2], axis=0)\n",
    "#                 print(df.shape)\n",
    "#             except Exception as e:\n",
    "#                 missing.append(str(e))\n",
    "# df.to_csv(\"error.csv\", index=False) # ENABLE THIS LINE TO SAVE THE DATA\n",
    "# missing"
   ]
  },
  {
   "cell_type": "markdown",
   "id": "b70c7948-b95f-4256-a28e-84c6070bc4f3",
   "metadata": {},
   "source": [
    "# ..\n",
    "<!-- # Missing Prediction Files\n",
    "- \"[Errno 2] No such file or directory: './output/csvs/online_retail_explainable_boosting_train-exf.csv'\",\n",
    "- \"[Errno 2] No such file or directory: './output/csvs/online_retail_2_explainable_boosting_train-exf.csv'\",\n",
    "- \"[Errno 2] No such file or directory: './output/csvs/product_demand_explainable_boosting_train-exf.csv'\",\n",
    "- \"[Errno 2] No such file or directory: './output/csvs/future_sales_explainable_boosting_train-exf.csv'\",\n",
    "- \"[Errno 2] No such file or directory: './output/csvs/livestock_meat_import_explainable_boosting_train-exf.csv'\",\n",
    "- \"[Errno 2] No such file or directory: './output/csvs/online_retail_xgboost_train.csv'\",\n",
    "- \"[Errno 2] No such file or directory: './output/csvs/online_retail_explainable_boosting_train.csv'\",\n",
    "- \"[Errno 2] No such file or directory: './output/csvs/online_retail_2_xgboost_train.csv'\",\n",
    "- \"[Errno 2] No such file or directory: './output/csvs/online_retail_2_explainable_boosting_train.csv'\",\n",
    "- \"[Errno 2] No such file or directory: './output/csvs/product_demand_xgboost_train.csv'\",\n",
    "- \"[Errno 2] No such file or directory: './output/csvs/product_demand_explainable_boosting_train.csv'\",\n",
    "- \"[Errno 2] No such file or directory: './output/csvs/future_sales_xgboost_train.csv'\",\n",
    "- \"[Errno 2] No such file or directory: './output/csvs/future_sales_explainable_boosting_train.csv'\",\n",
    "- \"[Errno 2] No such file or directory: './output/csvs/livestock_meat_import_xgboost_train.csv'\",\n",
    "- \"[Errno 2] No such file or directory: './output/csvs/livestock_meat_import_explainable_boosting_train.csv'\" -->"
   ]
  },
  {
   "cell_type": "code",
   "execution_count": 5,
   "id": "d351b7e0-7433-490f-88b4-59aab544e62c",
   "metadata": {},
   "outputs": [],
   "source": [
    "# from tools.dataset import get_dataset\n",
    "# from tools.models import get_model_trainer\n",
    "# from tools.preprocess import timeseries_split\n",
    "# missing = []\n",
    "# df = pd.DataFrame(columns = [\"error\", \"type\", \"model\", \"dataset\", \"extra_feature\"])\n",
    "# for is_extra_feature_enabled in [True, False]:\n",
    "#     extra_feat_txt = \"-exf\" if is_extra_feature_enabled else \"\"\n",
    "#     for dataset_name in [\"online_retail\", \"online_retail_2\", \"product_demand\", \"future_sales\", \"livestock_meat_import\"]:\n",
    "#         plt.figure(figsize=(20, 4))\n",
    "#         idx = 1\n",
    "#         for model_name in [\"xgboost\", \"explainable_boosting\", \"ssl+tabnet\", \"tabnet\"]:\n",
    "#             try:\n",
    "#                 ax = plt.subplot(1, 4, idx)\n",
    "#                 idx+=1\n",
    "#                 filename1 = f\"./output/csvs/{dataset_name}_{model_name}_train{extra_feat_txt}.csv\"\n",
    "#                 filename2 = f\"./output/csvs/{dataset_name}_{model_name}_test{extra_feat_txt}.csv\"\n",
    "#                 df_train = pd.read_csv(filename1)\n",
    "#                 df_test = pd.read_csv(filename2)\n",
    "#                 y_train, y_train_pred = df_train['y'], df_train['y_pred']\n",
    "#                 y_test, y_test_pred = df_test['y'], df_test['y_pred']\n",
    "#                 # series.append(dict(\"model\"))\n",
    "#                 df1 = pd.DataFrame(dict(error=y_train - y_train_pred, type=\"train\", model=model_name, dataset=dataset_name, extra_feature=is_extra_feature_enabled))\n",
    "#                 df2 = pd.DataFrame(dict(error=y_test - y_test_pred, type=\"test\", model=model_name, dataset=dataset_name, extra_feature=is_extra_feature_enabled))\n",
    "#                 df = pd.concat([df1, df2], axis=0)\n",
    "#                 sns.kdeplot(data=df, x=\"error\", hue=\"type\", ax=ax)\n",
    "#                 # display(df.groupby(by=\"type\").mean())\n",
    "#                 # qq_manual(model_name, \"%s%s\"%(dataset_name, extra_feat_txt), y_train, y_train_pred)\n",
    "#             except Exception as e:\n",
    "#                 missing.append(str(e))\n",
    "#         plt.show()"
   ]
  },
  {
   "cell_type": "markdown",
   "id": "0d97970b-a896-45c2-9215-71aa0763c77c",
   "metadata": {},
   "source": [
    "# Model Average error vs average time"
   ]
  },
  {
   "cell_type": "code",
   "execution_count": 57,
   "id": "47bbcbdf-8a9c-46a3-8f1e-f95d91bf61b2",
   "metadata": {},
   "outputs": [
    {
     "data": {
      "text/html": [
       "<div>\n",
       "<style scoped>\n",
       "    .dataframe tbody tr th:only-of-type {\n",
       "        vertical-align: middle;\n",
       "    }\n",
       "\n",
       "    .dataframe tbody tr th {\n",
       "        vertical-align: top;\n",
       "    }\n",
       "\n",
       "    .dataframe thead th {\n",
       "        text-align: right;\n",
       "    }\n",
       "</style>\n",
       "<table border=\"1\" class=\"dataframe\">\n",
       "  <thead>\n",
       "    <tr style=\"text-align: right;\">\n",
       "      <th></th>\n",
       "      <th>error</th>\n",
       "      <th>time</th>\n",
       "      <th>model</th>\n",
       "      <th>metric</th>\n",
       "    </tr>\n",
       "  </thead>\n",
       "  <tbody>\n",
       "    <tr>\n",
       "      <th>0</th>\n",
       "      <td>1.452503e+05</td>\n",
       "      <td>1207.910</td>\n",
       "      <td>explainable_boosting</td>\n",
       "      <td>mae</td>\n",
       "    </tr>\n",
       "    <tr>\n",
       "      <th>1</th>\n",
       "      <td>2.196606e+05</td>\n",
       "      <td>2847.000</td>\n",
       "      <td>ssl+tabnet</td>\n",
       "      <td>mae</td>\n",
       "    </tr>\n",
       "    <tr>\n",
       "      <th>2</th>\n",
       "      <td>1.958692e+05</td>\n",
       "      <td>1576.800</td>\n",
       "      <td>tabnet</td>\n",
       "      <td>mae</td>\n",
       "    </tr>\n",
       "    <tr>\n",
       "      <th>3</th>\n",
       "      <td>7.532682e+04</td>\n",
       "      <td>119.275</td>\n",
       "      <td>xgboost</td>\n",
       "      <td>mae</td>\n",
       "    </tr>\n",
       "    <tr>\n",
       "      <th>4</th>\n",
       "      <td>1.495743e+12</td>\n",
       "      <td>1207.910</td>\n",
       "      <td>explainable_boosting</td>\n",
       "      <td>mse</td>\n",
       "    </tr>\n",
       "    <tr>\n",
       "      <th>5</th>\n",
       "      <td>6.683693e+12</td>\n",
       "      <td>2847.000</td>\n",
       "      <td>ssl+tabnet</td>\n",
       "      <td>mse</td>\n",
       "    </tr>\n",
       "    <tr>\n",
       "      <th>6</th>\n",
       "      <td>4.782904e+12</td>\n",
       "      <td>1576.800</td>\n",
       "      <td>tabnet</td>\n",
       "      <td>mse</td>\n",
       "    </tr>\n",
       "    <tr>\n",
       "      <th>7</th>\n",
       "      <td>4.985888e+11</td>\n",
       "      <td>119.275</td>\n",
       "      <td>xgboost</td>\n",
       "      <td>mse</td>\n",
       "    </tr>\n",
       "    <tr>\n",
       "      <th>8</th>\n",
       "      <td>2.836517e+16</td>\n",
       "      <td>1207.910</td>\n",
       "      <td>explainable_boosting</td>\n",
       "      <td>mape</td>\n",
       "    </tr>\n",
       "    <tr>\n",
       "      <th>9</th>\n",
       "      <td>3.975753e+16</td>\n",
       "      <td>2847.000</td>\n",
       "      <td>ssl+tabnet</td>\n",
       "      <td>mape</td>\n",
       "    </tr>\n",
       "    <tr>\n",
       "      <th>10</th>\n",
       "      <td>6.156048e+16</td>\n",
       "      <td>1576.800</td>\n",
       "      <td>tabnet</td>\n",
       "      <td>mape</td>\n",
       "    </tr>\n",
       "    <tr>\n",
       "      <th>11</th>\n",
       "      <td>2.588244e+16</td>\n",
       "      <td>119.275</td>\n",
       "      <td>xgboost</td>\n",
       "      <td>mape</td>\n",
       "    </tr>\n",
       "    <tr>\n",
       "      <th>12</th>\n",
       "      <td>4.158889e+05</td>\n",
       "      <td>1207.910</td>\n",
       "      <td>explainable_boosting</td>\n",
       "      <td>rmse</td>\n",
       "    </tr>\n",
       "    <tr>\n",
       "      <th>13</th>\n",
       "      <td>1.023453e+06</td>\n",
       "      <td>2847.000</td>\n",
       "      <td>ssl+tabnet</td>\n",
       "      <td>rmse</td>\n",
       "    </tr>\n",
       "    <tr>\n",
       "      <th>14</th>\n",
       "      <td>8.493436e+05</td>\n",
       "      <td>1576.800</td>\n",
       "      <td>tabnet</td>\n",
       "      <td>rmse</td>\n",
       "    </tr>\n",
       "    <tr>\n",
       "      <th>15</th>\n",
       "      <td>2.570172e+05</td>\n",
       "      <td>119.275</td>\n",
       "      <td>xgboost</td>\n",
       "      <td>rmse</td>\n",
       "    </tr>\n",
       "  </tbody>\n",
       "</table>\n",
       "</div>"
      ],
      "text/plain": [
       "           error      time                 model metric\n",
       "0   1.452503e+05  1207.910  explainable_boosting    mae\n",
       "1   2.196606e+05  2847.000            ssl+tabnet    mae\n",
       "2   1.958692e+05  1576.800                tabnet    mae\n",
       "3   7.532682e+04   119.275               xgboost    mae\n",
       "4   1.495743e+12  1207.910  explainable_boosting    mse\n",
       "5   6.683693e+12  2847.000            ssl+tabnet    mse\n",
       "6   4.782904e+12  1576.800                tabnet    mse\n",
       "7   4.985888e+11   119.275               xgboost    mse\n",
       "8   2.836517e+16  1207.910  explainable_boosting   mape\n",
       "9   3.975753e+16  2847.000            ssl+tabnet   mape\n",
       "10  6.156048e+16  1576.800                tabnet   mape\n",
       "11  2.588244e+16   119.275               xgboost   mape\n",
       "12  4.158889e+05  1207.910  explainable_boosting   rmse\n",
       "13  1.023453e+06  2847.000            ssl+tabnet   rmse\n",
       "14  8.493436e+05  1576.800                tabnet   rmse\n",
       "15  2.570172e+05   119.275               xgboost   rmse"
      ]
     },
     "execution_count": 57,
     "metadata": {},
     "output_type": "execute_result"
    }
   ],
   "source": [
    "metrics_pair = [\n",
    "    [\"test_mae\", \"train_mae\", 100], [\"test_mse\", \"train_mse\", 1000000000], [\"test_mape\", \"train_mape\", 1000000000000], [\"train_rmse\", \"test_rmse\", 100]\n",
    "]\n",
    "data = []\n",
    "for metrcs in metrics_pair:\n",
    "    a, b, step = metrcs\n",
    "    metric_name = a.replace('test_', '').replace('train_', '')\n",
    "    aver[metric_name] = {}\n",
    "    for model in df.model.unique():\n",
    "        tdf = df[df.model == model][[a,b, \"model\", \"Duration Seconds\"]].describe().loc[['mean']]\n",
    "        avg_error = np.mean(tdf[[a,b]])\n",
    "        avg_time = tdf[\"Duration Seconds\"].values[0]\n",
    "        data.append(dict(error=avg_error, time=avg_time, model=model, metric=metric_name))\n",
    "\n",
    "datadf = pd.DataFrame(data)\n",
    "datadf"
   ]
  },
  {
   "cell_type": "code",
   "execution_count": 92,
   "id": "5a193185-30de-4af6-9686-04381e3e1f7e",
   "metadata": {},
   "outputs": [
    {
     "data": {
      "image/png": "[encoded data removed]",
      "text/plain": [
       "<Figure size 1217.62x1000 with 4 Axes>"
      ]
     },
     "metadata": {},
     "output_type": "display_data"
    }
   ],
   "source": [
    "ax = sns.relplot(data=datadf, x='error', y='time', hue='model', col=\"metric\", kind=\"scatter\", col_wrap=2)\n",
    "ax.savefig(\"error-vs-duration.png\")\n",
    "plt.show()"
   ]
  },
  {
   "cell_type": "code",
   "execution_count": 77,
   "id": "216b0c56-26cc-4ccd-9a31-1c7cdbae656d",
   "metadata": {},
   "outputs": [
    {
     "data": {
      "image/png": "[encoded data removed]",
      "text/plain": [
       "<Figure size 1800x400 with 4 Axes>"
      ]
     },
     "metadata": {},
     "output_type": "display_data"
    }
   ],
   "source": [
    "plt.figure(figsize=(18, 4))\n",
    "for idx, metric in enumerate(datadf.metric.unique()):\n",
    "    ax = plt.subplot(1, 4, idx+1)\n",
    "    ax = sns.scatterplot(data=datadf[datadf.metric == metric], x='error', y='time', hue='model', ax=ax, legend=idx==3, col=\"metric\")\n",
    "    if idx != 0:\n",
    "        ax.set_ylabel(\"\")\n",
    "plt.savefig(\"%s-vs-duration.png\"%metric)\n",
    "plt.show()"
   ]
  },
  {
   "cell_type": "code",
   "execution_count": null,
   "id": "0dd25f91-a334-487b-9e50-9e639450896b",
   "metadata": {},
   "outputs": [],
   "source": []
  },
  {
   "cell_type": "markdown",
   "id": "a2f760ea-b8b3-43f6-88ed-ace63ed94b64",
   "metadata": {},
   "source": [
    "# Hypothesis Testing"
   ]
  },
  {
   "cell_type": "markdown",
   "id": "8bad46b0-6f32-4cce-9b58-a9bdfcc201a8",
   "metadata": {},
   "source": [
    "# Hypothesis to test\n",
    "1. Which model causes the highest average error\n",
    "1. Which model causes the lowest average error\n",
    "1. Which dataset experienced the highest average error\n",
    "1. Which dataset experienced the lowest average error\n",
    "1. Which dataset+model causes the highest average error\n",
    "1. Which dataset+model causes the lowest average error"
   ]
  },
  {
   "cell_type": "code",
   "execution_count": 6,
   "id": "3dc50ce1-b8fd-4565-becf-5266278cc05a",
   "metadata": {},
   "outputs": [],
   "source": [
    "df = pd.read_excel(\"all-results-trimed.xlsx\")"
   ]
  },
  {
   "cell_type": "markdown",
   "id": "ff2bed5a-6f9d-48e2-bd68-8ea8b82b091e",
   "metadata": {},
   "source": [
    "# Method to test the hypothesis\n",
    "- "
   ]
  },
  {
   "cell_type": "markdown",
   "id": "c125aeb3-8ebd-4672-ac28-355e03c0b4c0",
   "metadata": {},
   "source": [
    "https://medium.com/illumination/how-to-perform-hypothesis-testing-using-python-bf71c2d6f627"
   ]
  },
  {
   "cell_type": "code",
   "execution_count": 7,
   "id": "9cf064a1-fb68-441b-b8ab-edb51d0f146b",
   "metadata": {
    "scrolled": true
   },
   "outputs": [
    {
     "data": {
      "text/html": [
       "<div>\n",
       "<style scoped>\n",
       "    .dataframe tbody tr th:only-of-type {\n",
       "        vertical-align: middle;\n",
       "    }\n",
       "\n",
       "    .dataframe tbody tr th {\n",
       "        vertical-align: top;\n",
       "    }\n",
       "\n",
       "    .dataframe thead th {\n",
       "        text-align: right;\n",
       "    }\n",
       "</style>\n",
       "<table border=\"1\" class=\"dataframe\">\n",
       "  <thead>\n",
       "    <tr style=\"text-align: right;\">\n",
       "      <th></th>\n",
       "      <th>Duration</th>\n",
       "      <th>Duration Seconds</th>\n",
       "      <th>dataset</th>\n",
       "      <th>extra_feat</th>\n",
       "      <th>feature_count</th>\n",
       "      <th>model</th>\n",
       "      <th>total size</th>\n",
       "      <th>test_size</th>\n",
       "      <th>time_period_sec_txt</th>\n",
       "      <th>time_period_test_txt</th>\n",
       "      <th>time_period_train_txt</th>\n",
       "      <th>train_size</th>\n",
       "      <th>test_mae</th>\n",
       "      <th>test_mape</th>\n",
       "      <th>test_mse</th>\n",
       "      <th>test_rmse</th>\n",
       "      <th>train_mae</th>\n",
       "      <th>train_mape</th>\n",
       "      <th>train_mse</th>\n",
       "      <th>train_rmse</th>\n",
       "    </tr>\n",
       "  </thead>\n",
       "  <tbody>\n",
       "    <tr>\n",
       "      <th>0</th>\n",
       "      <td>1.7h</td>\n",
       "      <td>6120.0</td>\n",
       "      <td>future_sales</td>\n",
       "      <td>False</td>\n",
       "      <td>7</td>\n",
       "      <td>explainable_boosting</td>\n",
       "      <td>2935849</td>\n",
       "      <td>587170</td>\n",
       "      <td>1033 days 00:00:00</td>\n",
       "      <td>298 days 00:00:00</td>\n",
       "      <td>735 days 00:00:00</td>\n",
       "      <td>2348679</td>\n",
       "      <td>4.839421e-01</td>\n",
       "      <td>0.321990</td>\n",
       "      <td>1.858582e+01</td>\n",
       "      <td>4.311127e+00</td>\n",
       "      <td>3.941223e-01</td>\n",
       "      <td>0.254645</td>\n",
       "      <td>3.250366e+00</td>\n",
       "      <td>1.802877e+00</td>\n",
       "    </tr>\n",
       "    <tr>\n",
       "      <th>1</th>\n",
       "      <td>2.6h</td>\n",
       "      <td>9360.0</td>\n",
       "      <td>future_sales</td>\n",
       "      <td>False</td>\n",
       "      <td>7</td>\n",
       "      <td>ssl+tabnet</td>\n",
       "      <td>2935849</td>\n",
       "      <td>587170</td>\n",
       "      <td>1033 days 00:00:00</td>\n",
       "      <td>298 days 00:00:00</td>\n",
       "      <td>735 days 00:00:00</td>\n",
       "      <td>2348679</td>\n",
       "      <td>4.294539e-01</td>\n",
       "      <td>0.247771</td>\n",
       "      <td>1.887979e+01</td>\n",
       "      <td>4.345088e+00</td>\n",
       "      <td>4.170997e-01</td>\n",
       "      <td>0.249980</td>\n",
       "      <td>3.798161e+00</td>\n",
       "      <td>1.948887e+00</td>\n",
       "    </tr>\n",
       "    <tr>\n",
       "      <th>2</th>\n",
       "      <td>42.1min</td>\n",
       "      <td>2526.0</td>\n",
       "      <td>future_sales</td>\n",
       "      <td>False</td>\n",
       "      <td>7</td>\n",
       "      <td>tabnet</td>\n",
       "      <td>2935849</td>\n",
       "      <td>587170</td>\n",
       "      <td>1033 days 00:00:00</td>\n",
       "      <td>298 days 00:00:00</td>\n",
       "      <td>735 days 00:00:00</td>\n",
       "      <td>2348679</td>\n",
       "      <td>4.104068e-01</td>\n",
       "      <td>0.238966</td>\n",
       "      <td>1.872326e+01</td>\n",
       "      <td>4.327038e+00</td>\n",
       "      <td>3.706080e-01</td>\n",
       "      <td>0.215676</td>\n",
       "      <td>3.481449e+00</td>\n",
       "      <td>1.865864e+00</td>\n",
       "    </tr>\n",
       "    <tr>\n",
       "      <th>3</th>\n",
       "      <td>4.4min</td>\n",
       "      <td>264.0</td>\n",
       "      <td>future_sales</td>\n",
       "      <td>False</td>\n",
       "      <td>7</td>\n",
       "      <td>xgboost</td>\n",
       "      <td>2935849</td>\n",
       "      <td>587170</td>\n",
       "      <td>1033 days 00:00:00</td>\n",
       "      <td>298 days 00:00:00</td>\n",
       "      <td>735 days 00:00:00</td>\n",
       "      <td>2348679</td>\n",
       "      <td>3.936758e-01</td>\n",
       "      <td>0.229396</td>\n",
       "      <td>1.491996e+01</td>\n",
       "      <td>3.862637e+00</td>\n",
       "      <td>3.415570e-01</td>\n",
       "      <td>0.207621</td>\n",
       "      <td>2.723107e+00</td>\n",
       "      <td>1.650184e+00</td>\n",
       "    </tr>\n",
       "    <tr>\n",
       "      <th>4</th>\n",
       "      <td>5.0min</td>\n",
       "      <td>300.0</td>\n",
       "      <td>livestock_meat_import</td>\n",
       "      <td>False</td>\n",
       "      <td>5</td>\n",
       "      <td>explainable_boosting</td>\n",
       "      <td>237165</td>\n",
       "      <td>47433</td>\n",
       "      <td>12691 days 00:00:00</td>\n",
       "      <td>2495 days 00:00:00</td>\n",
       "      <td>10196 days 00:00:00</td>\n",
       "      <td>189732</td>\n",
       "      <td>1.136672e+06</td>\n",
       "      <td>1221.018364</td>\n",
       "      <td>4.947906e+12</td>\n",
       "      <td>2.224389e+06</td>\n",
       "      <td>1.561041e+06</td>\n",
       "      <td>979.430642</td>\n",
       "      <td>2.402193e+13</td>\n",
       "      <td>4.901218e+06</td>\n",
       "    </tr>\n",
       "  </tbody>\n",
       "</table>\n",
       "</div>"
      ],
      "text/plain": [
       "  Duration  Duration Seconds                dataset  extra_feat  \\\n",
       "0     1.7h            6120.0           future_sales       False   \n",
       "1     2.6h            9360.0           future_sales       False   \n",
       "2  42.1min            2526.0           future_sales       False   \n",
       "3   4.4min             264.0           future_sales       False   \n",
       "4   5.0min             300.0  livestock_meat_import       False   \n",
       "\n",
       "   feature_count                 model  total size  test_size  \\\n",
       "0              7  explainable_boosting     2935849     587170   \n",
       "1              7            ssl+tabnet     2935849     587170   \n",
       "2              7                tabnet     2935849     587170   \n",
       "3              7               xgboost     2935849     587170   \n",
       "4              5  explainable_boosting      237165      47433   \n",
       "\n",
       "   time_period_sec_txt time_period_test_txt time_period_train_txt  train_size  \\\n",
       "0   1033 days 00:00:00    298 days 00:00:00     735 days 00:00:00     2348679   \n",
       "1   1033 days 00:00:00    298 days 00:00:00     735 days 00:00:00     2348679   \n",
       "2   1033 days 00:00:00    298 days 00:00:00     735 days 00:00:00     2348679   \n",
       "3   1033 days 00:00:00    298 days 00:00:00     735 days 00:00:00     2348679   \n",
       "4  12691 days 00:00:00   2495 days 00:00:00   10196 days 00:00:00      189732   \n",
       "\n",
       "       test_mae    test_mape      test_mse     test_rmse     train_mae  \\\n",
       "0  4.839421e-01     0.321990  1.858582e+01  4.311127e+00  3.941223e-01   \n",
       "1  4.294539e-01     0.247771  1.887979e+01  4.345088e+00  4.170997e-01   \n",
       "2  4.104068e-01     0.238966  1.872326e+01  4.327038e+00  3.706080e-01   \n",
       "3  3.936758e-01     0.229396  1.491996e+01  3.862637e+00  3.415570e-01   \n",
       "4  1.136672e+06  1221.018364  4.947906e+12  2.224389e+06  1.561041e+06   \n",
       "\n",
       "   train_mape     train_mse    train_rmse  \n",
       "0    0.254645  3.250366e+00  1.802877e+00  \n",
       "1    0.249980  3.798161e+00  1.948887e+00  \n",
       "2    0.215676  3.481449e+00  1.865864e+00  \n",
       "3    0.207621  2.723107e+00  1.650184e+00  \n",
       "4  979.430642  2.402193e+13  4.901218e+06  "
      ]
     },
     "execution_count": 7,
     "metadata": {},
     "output_type": "execute_result"
    }
   ],
   "source": [
    "# {col:df[col].unique() for col in df.columns if col != \"error\"}\n",
    "df.head()"
   ]
  },
  {
   "cell_type": "code",
   "execution_count": 8,
   "id": "1aae2b27-bf19-4d1d-868f-f5bb56fc6a04",
   "metadata": {},
   "outputs": [
    {
     "data": {
      "text/html": [
       "<div>\n",
       "<style scoped>\n",
       "    .dataframe tbody tr th:only-of-type {\n",
       "        vertical-align: middle;\n",
       "    }\n",
       "\n",
       "    .dataframe tbody tr th {\n",
       "        vertical-align: top;\n",
       "    }\n",
       "\n",
       "    .dataframe thead th {\n",
       "        text-align: right;\n",
       "    }\n",
       "</style>\n",
       "<table border=\"1\" class=\"dataframe\">\n",
       "  <thead>\n",
       "    <tr style=\"text-align: right;\">\n",
       "      <th></th>\n",
       "      <th>Duration Seconds</th>\n",
       "      <th>feature_count</th>\n",
       "      <th>total size</th>\n",
       "      <th>test_size</th>\n",
       "      <th>train_size</th>\n",
       "      <th>test_mae</th>\n",
       "      <th>test_mape</th>\n",
       "      <th>test_mse</th>\n",
       "      <th>test_rmse</th>\n",
       "      <th>train_mae</th>\n",
       "      <th>train_mape</th>\n",
       "      <th>train_mse</th>\n",
       "      <th>train_rmse</th>\n",
       "    </tr>\n",
       "  </thead>\n",
       "  <tbody>\n",
       "    <tr>\n",
       "      <th>count</th>\n",
       "      <td>40.000000</td>\n",
       "      <td>40.00000</td>\n",
       "      <td>4.000000e+01</td>\n",
       "      <td>40.000000</td>\n",
       "      <td>4.000000e+01</td>\n",
       "      <td>4.000000e+01</td>\n",
       "      <td>4.000000e+01</td>\n",
       "      <td>4.000000e+01</td>\n",
       "      <td>4.000000e+01</td>\n",
       "      <td>4.000000e+01</td>\n",
       "      <td>4.000000e+01</td>\n",
       "      <td>4.000000e+01</td>\n",
       "      <td>4.000000e+01</td>\n",
       "    </tr>\n",
       "    <tr>\n",
       "      <th>mean</th>\n",
       "      <td>1437.746250</td>\n",
       "      <td>9.90000</td>\n",
       "      <td>1.088309e+06</td>\n",
       "      <td>217662.000000</td>\n",
       "      <td>8.706466e+05</td>\n",
       "      <td>1.189851e+05</td>\n",
       "      <td>3.245294e+16</td>\n",
       "      <td>6.531389e+11</td>\n",
       "      <td>3.238253e+05</td>\n",
       "      <td>1.990684e+05</td>\n",
       "      <td>4.532987e+16</td>\n",
       "      <td>6.077326e+12</td>\n",
       "      <td>9.490259e+05</td>\n",
       "    </tr>\n",
       "    <tr>\n",
       "      <th>std</th>\n",
       "      <td>1946.391369</td>\n",
       "      <td>2.95088</td>\n",
       "      <td>9.792232e+05</td>\n",
       "      <td>195844.663866</td>\n",
       "      <td>7.833785e+05</td>\n",
       "      <td>2.870658e+05</td>\n",
       "      <td>7.589671e+16</td>\n",
       "      <td>1.671161e+12</td>\n",
       "      <td>7.498896e+05</td>\n",
       "      <td>4.774659e+05</td>\n",
       "      <td>1.062766e+17</td>\n",
       "      <td>1.670105e+13</td>\n",
       "      <td>2.304216e+06</td>\n",
       "    </tr>\n",
       "    <tr>\n",
       "      <th>min</th>\n",
       "      <td>24.900000</td>\n",
       "      <td>5.00000</td>\n",
       "      <td>2.371650e+05</td>\n",
       "      <td>47433.000000</td>\n",
       "      <td>1.897320e+05</td>\n",
       "      <td>2.592628e-02</td>\n",
       "      <td>1.084970e-02</td>\n",
       "      <td>1.087668e+00</td>\n",
       "      <td>1.042913e+00</td>\n",
       "      <td>1.443419e-02</td>\n",
       "      <td>1.024879e-02</td>\n",
       "      <td>9.623591e-03</td>\n",
       "      <td>9.809990e-02</td>\n",
       "    </tr>\n",
       "    <tr>\n",
       "      <th>25%</th>\n",
       "      <td>240.000000</td>\n",
       "      <td>7.00000</td>\n",
       "      <td>4.068290e+05</td>\n",
       "      <td>81366.000000</td>\n",
       "      <td>3.254630e+05</td>\n",
       "      <td>5.454793e+00</td>\n",
       "      <td>9.349315e-01</td>\n",
       "      <td>6.734920e+04</td>\n",
       "      <td>2.595067e+02</td>\n",
       "      <td>5.423269e+00</td>\n",
       "      <td>9.161383e-01</td>\n",
       "      <td>1.248160e+04</td>\n",
       "      <td>1.110037e+02</td>\n",
       "    </tr>\n",
       "    <tr>\n",
       "      <th>50%</th>\n",
       "      <td>690.000000</td>\n",
       "      <td>9.50000</td>\n",
       "      <td>8.243640e+05</td>\n",
       "      <td>164873.000000</td>\n",
       "      <td>6.594910e+05</td>\n",
       "      <td>1.214296e+01</td>\n",
       "      <td>2.945441e+00</td>\n",
       "      <td>1.602878e+05</td>\n",
       "      <td>4.003296e+02</td>\n",
       "      <td>1.168609e+01</td>\n",
       "      <td>2.277104e+00</td>\n",
       "      <td>3.423434e+04</td>\n",
       "      <td>1.849863e+02</td>\n",
       "    </tr>\n",
       "    <tr>\n",
       "      <th>75%</th>\n",
       "      <td>1756.500000</td>\n",
       "      <td>12.00000</td>\n",
       "      <td>1.037336e+06</td>\n",
       "      <td>207468.000000</td>\n",
       "      <td>8.298680e+05</td>\n",
       "      <td>5.971698e+03</td>\n",
       "      <td>7.337978e+02</td>\n",
       "      <td>7.899969e+08</td>\n",
       "      <td>2.810544e+04</td>\n",
       "      <td>5.794231e+03</td>\n",
       "      <td>7.328190e+02</td>\n",
       "      <td>7.066349e+08</td>\n",
       "      <td>2.657955e+04</td>\n",
       "    </tr>\n",
       "    <tr>\n",
       "      <th>max</th>\n",
       "      <td>9360.000000</td>\n",
       "      <td>14.00000</td>\n",
       "      <td>2.935849e+06</td>\n",
       "      <td>587170.000000</td>\n",
       "      <td>2.348679e+06</td>\n",
       "      <td>1.136672e+06</td>\n",
       "      <td>2.522996e+17</td>\n",
       "      <td>6.015429e+12</td>\n",
       "      <td>2.452637e+06</td>\n",
       "      <td>1.561041e+06</td>\n",
       "      <td>3.968140e+17</td>\n",
       "      <td>6.346991e+13</td>\n",
       "      <td>7.966800e+06</td>\n",
       "    </tr>\n",
       "  </tbody>\n",
       "</table>\n",
       "</div>"
      ],
      "text/plain": [
       "       Duration Seconds  feature_count    total size      test_size  \\\n",
       "count         40.000000       40.00000  4.000000e+01      40.000000   \n",
       "mean        1437.746250        9.90000  1.088309e+06  217662.000000   \n",
       "std         1946.391369        2.95088  9.792232e+05  195844.663866   \n",
       "min           24.900000        5.00000  2.371650e+05   47433.000000   \n",
       "25%          240.000000        7.00000  4.068290e+05   81366.000000   \n",
       "50%          690.000000        9.50000  8.243640e+05  164873.000000   \n",
       "75%         1756.500000       12.00000  1.037336e+06  207468.000000   \n",
       "max         9360.000000       14.00000  2.935849e+06  587170.000000   \n",
       "\n",
       "         train_size      test_mae     test_mape      test_mse     test_rmse  \\\n",
       "count  4.000000e+01  4.000000e+01  4.000000e+01  4.000000e+01  4.000000e+01   \n",
       "mean   8.706466e+05  1.189851e+05  3.245294e+16  6.531389e+11  3.238253e+05   \n",
       "std    7.833785e+05  2.870658e+05  7.589671e+16  1.671161e+12  7.498896e+05   \n",
       "min    1.897320e+05  2.592628e-02  1.084970e-02  1.087668e+00  1.042913e+00   \n",
       "25%    3.254630e+05  5.454793e+00  9.349315e-01  6.734920e+04  2.595067e+02   \n",
       "50%    6.594910e+05  1.214296e+01  2.945441e+00  1.602878e+05  4.003296e+02   \n",
       "75%    8.298680e+05  5.971698e+03  7.337978e+02  7.899969e+08  2.810544e+04   \n",
       "max    2.348679e+06  1.136672e+06  2.522996e+17  6.015429e+12  2.452637e+06   \n",
       "\n",
       "          train_mae    train_mape     train_mse    train_rmse  \n",
       "count  4.000000e+01  4.000000e+01  4.000000e+01  4.000000e+01  \n",
       "mean   1.990684e+05  4.532987e+16  6.077326e+12  9.490259e+05  \n",
       "std    4.774659e+05  1.062766e+17  1.670105e+13  2.304216e+06  \n",
       "min    1.443419e-02  1.024879e-02  9.623591e-03  9.809990e-02  \n",
       "25%    5.423269e+00  9.161383e-01  1.248160e+04  1.110037e+02  \n",
       "50%    1.168609e+01  2.277104e+00  3.423434e+04  1.849863e+02  \n",
       "75%    5.794231e+03  7.328190e+02  7.066349e+08  2.657955e+04  \n",
       "max    1.561041e+06  3.968140e+17  6.346991e+13  7.966800e+06  "
      ]
     },
     "execution_count": 8,
     "metadata": {},
     "output_type": "execute_result"
    }
   ],
   "source": [
    "df.describe()"
   ]
  },
  {
   "cell_type": "code",
   "execution_count": 9,
   "id": "9e10e7d1-6d02-42c6-aab3-9159220c2c4b",
   "metadata": {},
   "outputs": [
    {
     "data": {
      "text/plain": [
       "array(['explainable_boosting', 'ssl+tabnet', 'tabnet', 'xgboost'],\n",
       "      dtype=object)"
      ]
     },
     "execution_count": 9,
     "metadata": {},
     "output_type": "execute_result"
    }
   ],
   "source": [
    "df[\"model\"].unique()"
   ]
  },
  {
   "cell_type": "code",
   "execution_count": 10,
   "id": "faeb9261-a9eb-47b7-86c8-17435d3cb34b",
   "metadata": {},
   "outputs": [],
   "source": [
    "import math\n",
    "\n",
    "def z_stat(x_bar, u, n, std):\n",
    "    return round((x_bar - u) / (std / math.sqrt(n)), 3)\n",
    "\n",
    "def z_table(alpha):\n",
    "    return st.norm.ppf(alpha)\n",
    "\n",
    "def proba(z_table):\n",
    "    return st.norm.cdf(z_table)\n",
    "\n",
    "def p_value_stat(series, mu, p_value_threshold=0.05):\n",
    "    import pandas as pd\n",
    "    import numpy as np\n",
    "    \n",
    "    sample_mean = series.mean()\n",
    "    sample_sd = series.std()\n",
    "    sample_size = len(series)\n",
    "    \n",
    "    # print(f\"Sample Mean: {sample_mean}\")\n",
    "    # print(f\"Sample Standard Deviation: {sample_sd}\")\n",
    "    # print(f\"Sample Size: {sample_size}\")\n",
    "\n",
    "    from scipy import stats\n",
    "    \n",
    "    t_statistic, p_value = stats.ttest_1samp(series, mu)\n",
    "    \n",
    "    # print(f\"T-Statistic: {t_statistic}\")\n",
    "    # print(f\"p_value: {p_value}\")\n",
    "    return p_value < p_value_threshold"
   ]
  },
  {
   "cell_type": "code",
   "execution_count": 11,
   "id": "ede59206-8c11-4146-80cc-dc4d9d1144da",
   "metadata": {},
   "outputs": [],
   "source": [
    "# # cretical value method\n",
    "# a, b = \"test_mae\", \"train_mae\"\n",
    "# model = \"tabnet\"\n",
    "# sel = df[df[\"model\"] == model]\n",
    "# ready = pd.concat([df[a], df[b]], axis=0)\n",
    "# x_bar, std = ready.mean(), ready.std()\n",
    "# n = len(ready)\n",
    "# # n, x_bar, variance\n",
    "# a = 0.05\n",
    "# # H0: formulating hypothesis\n",
    "# u = 7000 # say populating mean is 15000\n",
    "# z = z_stat(x_bar, u, n, std)\n",
    "# two_tailed = True\n",
    "# if two_tailed:\n",
    "#     a = a / 2\n",
    "# lcv = z_table(a)\n",
    "# ucv = z_table(1-a)\n",
    "\n",
    "# lcv < z , z < ucv, lcv < z < ucv"
   ]
  },
  {
   "cell_type": "code",
   "execution_count": 12,
   "id": "e431ee87-896d-4e77-af36-eda41c704a9c",
   "metadata": {},
   "outputs": [],
   "source": [
    "# import matplotlib.pyplot as plt\n",
    "# import numpy as np\n",
    "\n",
    "# # Define mean and standard deviation\n",
    "# mean = u\n",
    "# std = std\n",
    "\n",
    "# fig, ax = plt.subplots()\n",
    "# # Create x-axis values\n",
    "# x = np.linspace(mean - 3*std, mean + 3*std, 400)\n",
    "\n",
    "# # Calculate the probability density function (PDF) of the Gaussian distribution\n",
    "# y = np.exp(-(x - mean)**2 / (2 * std**2))\n",
    "\n",
    "# # Plot the Gaussian curve\n",
    "# plt.plot(x, y, label='Gaussian Curve')\n",
    "\n",
    "# # Add labels and title\n",
    "# plt.xlabel('x')\n",
    "# plt.ylabel('Probability Density')\n",
    "# plt.title('Gaussian Curve (μ = {}, σ = {})'.format(mean, std))\n",
    "\n",
    "\n",
    "# # Mark significance level (u)\n",
    "# ax.axvline(u, color='red', linestyle='--', linewidth=1, label='Significance Level (u)')\n",
    "\n",
    "# # Indicate sample mean (x_bar)\n",
    "# ax.axvline(x_bar, color='blue', marker='o', markersize=8, label='Sample Mean (x_bar)')\n",
    "\n",
    "# # Mark significance level (u)\n",
    "# ax.axvline(lcv, color='red', linestyle='--', linewidth=1, label='Significance Level (u)')\n",
    "\n",
    "# # Indicate sample mean (x_bar)\n",
    "# ax.axvline(ucv, color='red', marker='o', markersize=8, label='Sample Mean (x_bar)')\n",
    "\n",
    "\n",
    "# # Add legend\n",
    "# plt.legend()\n",
    "\n",
    "# # Show the plot\n",
    "# plt.show()"
   ]
  },
  {
   "cell_type": "code",
   "execution_count": 13,
   "id": "13a59622-320f-4f3c-945a-b0e4cba74ddf",
   "metadata": {},
   "outputs": [],
   "source": [
    "# u = 0.05  # Significance level\n",
    "# x_bar = 10.2  # Sample mean\n",
    "\n",
    "# # Create the figure and axis\n",
    "# fig, ax = plt.subplots()\n",
    "\n",
    "# # Set axis label (adjust as needed)\n",
    "# ax.set_xlabel(\"Latent Variable Space\")\n",
    "\n",
    "# # Shade the null hypothesis region (assuming a two-tailed test)\n",
    "# null_hypothesis_region = (ax.get_xlim()[0], ax.get_xlim()[1])  # Adjust range based on your data\n",
    "# ax.fill_between(null_hypothesis_region, alpha=0.2, color='lightgreen', label='Null Hypothesis Region')\n",
    "\n",
    "# # Mark significance level (u)\n",
    "# ax.axvline(u, color='red', linestyle='--', linewidth=1, label='Significance Level (u)')\n",
    "\n",
    "# # Indicate sample mean (x_bar)\n",
    "# ax.axvline(x_bar, color='blue', marker='o', markersize=8, label='Sample Mean (x_bar)')\n",
    "\n",
    "# # Annotate LCVs and UCVs conceptually (replace with shapes or markers if desired)\n",
    "# ax.text(ax.get_xlim()[0] - 0.1, ax.get_ylim()[1] / 2, 'LCVs', ha='right', va='center', fontsize=12)\n",
    "# ax.text(ax.get_xlim()[1] + 0.1, ax.get_ylim()[1] / 2, 'UCVs', ha='left', va='center', fontsize=12)\n",
    "\n",
    "# # Add legend\n",
    "# ax.legend()\n",
    "\n",
    "# # Display the plot\n",
    "# plt.show()"
   ]
  },
  {
   "cell_type": "markdown",
   "id": "3b64a5ef-21a6-4cd1-8089-2d0fe8856d90",
   "metadata": {},
   "source": [
    "# There are to validate H0\n",
    "1. Critical Value Method\n",
    "2. p-value Method\n",
    "\n",
    "# Hypothesis to test\n",
    "1. Which model causes the highest average error\n",
    "1. Which model causes the lowest average error\n",
    "1. Which dataset experienced the highest average error\n",
    "1. Which dataset experienced the lowest average error\n",
    "1. Which dataset+model causes the highest average error\n",
    "1. Which dataset+model causes the lowest average error"
   ]
  },
  {
   "cell_type": "markdown",
   "id": "8d20ab6b-a41d-4d92-8020-8d16dbe6cea1",
   "metadata": {},
   "source": [
    "# Which model causes the highest average error\n",
    "# Which model causes the lowest average error"
   ]
  },
  {
   "cell_type": "code",
   "execution_count": 14,
   "id": "236f6c93-8441-42d2-a83c-713f6e0d8ede",
   "metadata": {},
   "outputs": [
    {
     "name": "stderr",
     "output_type": "stream",
     "text": [
      " 26%|██████████████▋                                          | 4006/15491 [00:04<00:12, 906.36it/s]\n",
      " 30%|█████████████████▎                                       | 4417/14496 [00:04<00:10, 968.70it/s]\n",
      " 22%|████████████▍                                            | 3412/15611 [00:03<00:13, 910.42it/s]\n",
      " 24%|█████████████▍                                           | 1684/7117 [00:01<00:05, 1003.71it/s]\n",
      " 20%|███████████▏                                            | 11405/57086 [00:11<00:46, 983.28it/s]\n",
      " 24%|█████████████▋                                          | 15450/63470 [00:16<00:51, 933.43it/s]\n",
      " 17%|█████████▌                                               | 4032/24022 [00:04<00:23, 833.19it/s]\n",
      " 18%|██████████▏                                               | 1290/7360 [00:01<00:06, 926.49it/s]\n",
      "  0%|                                                                    | 0/396815 [00:00<?, ?it/s]\n",
      " 26%|██████████████                                        | 81935/313387 [01:17<03:40, 1050.86it/s]\n",
      " 23%|████████████▌                                         | 63072/271483 [00:57<03:08, 1104.60it/s]\n",
      " 25%|█████████████▌                                        | 55109/219023 [00:48<02:23, 1139.37it/s]\n",
      " 24%|█████████████▏                                         | 18171/75556 [00:14<00:46, 1222.86it/s]\n",
      " 15%|████████▏                                              | 11824/79668 [00:09<00:57, 1184.96it/s]\n"
     ]
    },
    {
     "ename": "KeyboardInterrupt",
     "evalue": "",
     "output_type": "error",
     "traceback": [
      "\u001b[1;31m---------------------------------------------------------------------------\u001b[0m",
      "\u001b[1;31mKeyboardInterrupt\u001b[0m                         Traceback (most recent call last)",
      "Cell \u001b[1;32mIn[14], line 23\u001b[0m\n\u001b[0;32m     21\u001b[0m range_1 \u001b[38;5;241m=\u001b[39m \u001b[38;5;28;01mNone\u001b[39;00m\n\u001b[0;32m     22\u001b[0m \u001b[38;5;28;01mfor\u001b[39;00m u \u001b[38;5;129;01min\u001b[39;00m tqdm(\u001b[38;5;28mrange\u001b[39m(\u001b[38;5;28mint\u001b[39m(ready\u001b[38;5;241m.\u001b[39mmin()), \u001b[38;5;28mint\u001b[39m(ready\u001b[38;5;241m.\u001b[39mmax()), step)):\n\u001b[1;32m---> 23\u001b[0m     flag \u001b[38;5;241m=\u001b[39m \u001b[43mp_value_stat\u001b[49m\u001b[43m(\u001b[49m\u001b[43mready\u001b[49m\u001b[43m,\u001b[49m\u001b[43m \u001b[49m\u001b[43mmu\u001b[49m\u001b[38;5;241;43m=\u001b[39;49m\u001b[43mu\u001b[49m\u001b[43m)\u001b[49m\n\u001b[0;32m     24\u001b[0m     \u001b[38;5;28;01mif\u001b[39;00m flag \u001b[38;5;129;01mand\u001b[39;00m range_1 \u001b[38;5;129;01mis\u001b[39;00m \u001b[38;5;28;01mNone\u001b[39;00m:\n\u001b[0;32m     25\u001b[0m         range_1 \u001b[38;5;241m=\u001b[39m u\n",
      "Cell \u001b[1;32mIn[10], line 26\u001b[0m, in \u001b[0;36mp_value_stat\u001b[1;34m(series, mu, p_value_threshold)\u001b[0m\n\u001b[0;32m     20\u001b[0m \u001b[38;5;66;03m# print(f\"Sample Mean: {sample_mean}\")\u001b[39;00m\n\u001b[0;32m     21\u001b[0m \u001b[38;5;66;03m# print(f\"Sample Standard Deviation: {sample_sd}\")\u001b[39;00m\n\u001b[0;32m     22\u001b[0m \u001b[38;5;66;03m# print(f\"Sample Size: {sample_size}\")\u001b[39;00m\n\u001b[0;32m     24\u001b[0m \u001b[38;5;28;01mfrom\u001b[39;00m \u001b[38;5;21;01mscipy\u001b[39;00m \u001b[38;5;28;01mimport\u001b[39;00m stats\n\u001b[1;32m---> 26\u001b[0m t_statistic, p_value \u001b[38;5;241m=\u001b[39m \u001b[43mstats\u001b[49m\u001b[38;5;241;43m.\u001b[39;49m\u001b[43mttest_1samp\u001b[49m\u001b[43m(\u001b[49m\u001b[43mseries\u001b[49m\u001b[43m,\u001b[49m\u001b[43m \u001b[49m\u001b[43mmu\u001b[49m\u001b[43m)\u001b[49m\n\u001b[0;32m     28\u001b[0m \u001b[38;5;66;03m# print(f\"T-Statistic: {t_statistic}\")\u001b[39;00m\n\u001b[0;32m     29\u001b[0m \u001b[38;5;66;03m# print(f\"p_value: {p_value}\")\u001b[39;00m\n\u001b[0;32m     30\u001b[0m \u001b[38;5;28;01mreturn\u001b[39;00m p_value \u001b[38;5;241m<\u001b[39m p_value_threshold\n",
      "File \u001b[1;32m~\\Anaconda3\\envs\\scm\\lib\\site-packages\\scipy\\stats\\_axis_nan_policy.py:455\u001b[0m, in \u001b[0;36m_axis_nan_policy_factory.<locals>.axis_nan_policy_decorator.<locals>.axis_nan_policy_wrapper\u001b[1;34m(***failed resolving arguments***)\u001b[0m\n\u001b[0;32m    453\u001b[0m     samples \u001b[38;5;241m=\u001b[39m [np\u001b[38;5;241m.\u001b[39masarray(sample\u001b[38;5;241m.\u001b[39mravel()) \u001b[38;5;28;01mfor\u001b[39;00m sample \u001b[38;5;129;01min\u001b[39;00m samples]\n\u001b[0;32m    454\u001b[0m \u001b[38;5;28;01melse\u001b[39;00m:\n\u001b[1;32m--> 455\u001b[0m     samples \u001b[38;5;241m=\u001b[39m \u001b[43m_broadcast_arrays\u001b[49m\u001b[43m(\u001b[49m\u001b[43msamples\u001b[49m\u001b[43m,\u001b[49m\u001b[43m \u001b[49m\u001b[43maxis\u001b[49m\u001b[38;5;241;43m=\u001b[39;49m\u001b[43maxis\u001b[49m\u001b[43m)\u001b[49m\n\u001b[0;32m    456\u001b[0m     axis \u001b[38;5;241m=\u001b[39m np\u001b[38;5;241m.\u001b[39matleast_1d(axis)\n\u001b[0;32m    457\u001b[0m     n_axes \u001b[38;5;241m=\u001b[39m \u001b[38;5;28mlen\u001b[39m(axis)\n",
      "File \u001b[1;32m~\\Anaconda3\\envs\\scm\\lib\\site-packages\\scipy\\stats\\_axis_nan_policy.py:18\u001b[0m, in \u001b[0;36m_broadcast_arrays\u001b[1;34m(arrays, axis)\u001b[0m\n\u001b[0;32m     14\u001b[0m \u001b[38;5;28;01mdef\u001b[39;00m \u001b[38;5;21m_broadcast_arrays\u001b[39m(arrays, axis\u001b[38;5;241m=\u001b[39m\u001b[38;5;28;01mNone\u001b[39;00m):\n\u001b[0;32m     15\u001b[0m \u001b[38;5;250m    \u001b[39m\u001b[38;5;124;03m\"\"\"\u001b[39;00m\n\u001b[0;32m     16\u001b[0m \u001b[38;5;124;03m    Broadcast shapes of arrays, ignoring incompatibility of specified axes\u001b[39;00m\n\u001b[0;32m     17\u001b[0m \u001b[38;5;124;03m    \"\"\"\u001b[39;00m\n\u001b[1;32m---> 18\u001b[0m     new_shapes \u001b[38;5;241m=\u001b[39m \u001b[43m_broadcast_array_shapes\u001b[49m\u001b[43m(\u001b[49m\u001b[43marrays\u001b[49m\u001b[43m,\u001b[49m\u001b[43m \u001b[49m\u001b[43maxis\u001b[49m\u001b[38;5;241;43m=\u001b[39;49m\u001b[43maxis\u001b[49m\u001b[43m)\u001b[49m\n\u001b[0;32m     19\u001b[0m     \u001b[38;5;28;01mif\u001b[39;00m axis \u001b[38;5;129;01mis\u001b[39;00m \u001b[38;5;28;01mNone\u001b[39;00m:\n\u001b[0;32m     20\u001b[0m         new_shapes \u001b[38;5;241m=\u001b[39m [new_shapes]\u001b[38;5;241m*\u001b[39m\u001b[38;5;28mlen\u001b[39m(arrays)\n",
      "File \u001b[1;32m~\\Anaconda3\\envs\\scm\\lib\\site-packages\\scipy\\stats\\_axis_nan_policy.py:30\u001b[0m, in \u001b[0;36m_broadcast_array_shapes\u001b[1;34m(arrays, axis)\u001b[0m\n\u001b[0;32m     26\u001b[0m \u001b[38;5;250m\u001b[39m\u001b[38;5;124;03m\"\"\"\u001b[39;00m\n\u001b[0;32m     27\u001b[0m \u001b[38;5;124;03mBroadcast shapes of arrays, ignoring incompatibility of specified axes\u001b[39;00m\n\u001b[0;32m     28\u001b[0m \u001b[38;5;124;03m\"\"\"\u001b[39;00m\n\u001b[0;32m     29\u001b[0m shapes \u001b[38;5;241m=\u001b[39m [np\u001b[38;5;241m.\u001b[39masarray(arr)\u001b[38;5;241m.\u001b[39mshape \u001b[38;5;28;01mfor\u001b[39;00m arr \u001b[38;5;129;01min\u001b[39;00m arrays]\n\u001b[1;32m---> 30\u001b[0m \u001b[38;5;28;01mreturn\u001b[39;00m \u001b[43m_broadcast_shapes\u001b[49m\u001b[43m(\u001b[49m\u001b[43mshapes\u001b[49m\u001b[43m,\u001b[49m\u001b[43m \u001b[49m\u001b[43maxis\u001b[49m\u001b[43m)\u001b[49m\n",
      "File \u001b[1;32m~\\Anaconda3\\envs\\scm\\lib\\site-packages\\scipy\\stats\\_axis_nan_policy.py:86\u001b[0m, in \u001b[0;36m_broadcast_shapes\u001b[1;34m(shapes, axis)\u001b[0m\n\u001b[0;32m     83\u001b[0m \u001b[38;5;28;01mif\u001b[39;00m axis \u001b[38;5;129;01mis\u001b[39;00m \u001b[38;5;129;01mnot\u001b[39;00m \u001b[38;5;28;01mNone\u001b[39;00m:\n\u001b[0;32m     84\u001b[0m     \u001b[38;5;66;03m# Add back the shape elements that were ignored\u001b[39;00m\n\u001b[0;32m     85\u001b[0m     new_axis \u001b[38;5;241m=\u001b[39m axis \u001b[38;5;241m-\u001b[39m np\u001b[38;5;241m.\u001b[39marange(\u001b[38;5;28mlen\u001b[39m(axis))\n\u001b[1;32m---> 86\u001b[0m     new_shapes \u001b[38;5;241m=\u001b[39m [\u001b[38;5;28mtuple\u001b[39m(np\u001b[38;5;241m.\u001b[39minsert(new_shape, new_axis, removed_shape))\n\u001b[0;32m     87\u001b[0m                   \u001b[38;5;28;01mfor\u001b[39;00m removed_shape \u001b[38;5;129;01min\u001b[39;00m removed_shapes]\n\u001b[0;32m     88\u001b[0m     \u001b[38;5;28;01mreturn\u001b[39;00m new_shapes\n\u001b[0;32m     89\u001b[0m \u001b[38;5;28;01melse\u001b[39;00m:\n",
      "File \u001b[1;32m~\\Anaconda3\\envs\\scm\\lib\\site-packages\\scipy\\stats\\_axis_nan_policy.py:86\u001b[0m, in \u001b[0;36m<listcomp>\u001b[1;34m(.0)\u001b[0m\n\u001b[0;32m     83\u001b[0m \u001b[38;5;28;01mif\u001b[39;00m axis \u001b[38;5;129;01mis\u001b[39;00m \u001b[38;5;129;01mnot\u001b[39;00m \u001b[38;5;28;01mNone\u001b[39;00m:\n\u001b[0;32m     84\u001b[0m     \u001b[38;5;66;03m# Add back the shape elements that were ignored\u001b[39;00m\n\u001b[0;32m     85\u001b[0m     new_axis \u001b[38;5;241m=\u001b[39m axis \u001b[38;5;241m-\u001b[39m np\u001b[38;5;241m.\u001b[39marange(\u001b[38;5;28mlen\u001b[39m(axis))\n\u001b[1;32m---> 86\u001b[0m     new_shapes \u001b[38;5;241m=\u001b[39m [\u001b[38;5;28mtuple\u001b[39m(\u001b[43mnp\u001b[49m\u001b[38;5;241;43m.\u001b[39;49m\u001b[43minsert\u001b[49m\u001b[43m(\u001b[49m\u001b[43mnew_shape\u001b[49m\u001b[43m,\u001b[49m\u001b[43m \u001b[49m\u001b[43mnew_axis\u001b[49m\u001b[43m,\u001b[49m\u001b[43m \u001b[49m\u001b[43mremoved_shape\u001b[49m\u001b[43m)\u001b[49m)\n\u001b[0;32m     87\u001b[0m                   \u001b[38;5;28;01mfor\u001b[39;00m removed_shape \u001b[38;5;129;01min\u001b[39;00m removed_shapes]\n\u001b[0;32m     88\u001b[0m     \u001b[38;5;28;01mreturn\u001b[39;00m new_shapes\n\u001b[0;32m     89\u001b[0m \u001b[38;5;28;01melse\u001b[39;00m:\n",
      "File \u001b[1;32m<__array_function__ internals>:200\u001b[0m, in \u001b[0;36minsert\u001b[1;34m(*args, **kwargs)\u001b[0m\n",
      "File \u001b[1;32m~\\Anaconda3\\envs\\scm\\lib\\site-packages\\numpy\\lib\\function_base.py:5404\u001b[0m, in \u001b[0;36minsert\u001b[1;34m(arr, obj, values, axis)\u001b[0m\n\u001b[0;32m   5402\u001b[0m new \u001b[38;5;241m=\u001b[39m empty(newshape, arr\u001b[38;5;241m.\u001b[39mdtype, arrorder)\n\u001b[0;32m   5403\u001b[0m slobj[axis] \u001b[38;5;241m=\u001b[39m \u001b[38;5;28mslice\u001b[39m(\u001b[38;5;28;01mNone\u001b[39;00m, index)\n\u001b[1;32m-> 5404\u001b[0m \u001b[43mnew\u001b[49m\u001b[43m[\u001b[49m\u001b[38;5;28;43mtuple\u001b[39;49m\u001b[43m(\u001b[49m\u001b[43mslobj\u001b[49m\u001b[43m)\u001b[49m\u001b[43m]\u001b[49m \u001b[38;5;241m=\u001b[39m arr[\u001b[38;5;28mtuple\u001b[39m(slobj)]\n\u001b[0;32m   5405\u001b[0m slobj[axis] \u001b[38;5;241m=\u001b[39m \u001b[38;5;28mslice\u001b[39m(index, index\u001b[38;5;241m+\u001b[39mnumnew)\n\u001b[0;32m   5406\u001b[0m new[\u001b[38;5;28mtuple\u001b[39m(slobj)] \u001b[38;5;241m=\u001b[39m values\n",
      "\u001b[1;31mKeyboardInterrupt\u001b[0m: "
     ]
    }
   ],
   "source": [
    "# Which model causes the highest average error\n",
    "# Which model causes the lowest average error\n",
    "\n",
    "from tqdm import tqdm\n",
    "metrics_pair = [\n",
    "    [\"test_mae\", \"train_mae\", 100], [\"test_mse\", \"train_mse\", 1000000000], [\"test_mape\", \"train_mape\", 1000000000000], [\"train_rmse\", \"test_rmse\", 100]\n",
    "]\n",
    "aver = {}\n",
    "for metrcs in metrics_pair:\n",
    "    # print(\"=====================\")\n",
    "    a, b, step = metrcs\n",
    "    # print(metrcs)\n",
    "    metric_name = a.replace('test_', '')\n",
    "    aver[metric_name] = {}\n",
    "    # print(aver)\n",
    "    for model in ['tabnet', 'ssl+tabnet', 'explainable_boosting', 'xgboost']:\n",
    "        # print(model)\n",
    "        sel = df[df[\"model\"] == model]\n",
    "        ready = pd.concat([sel[a], sel[b]], axis=0)\n",
    "        # print(ready.describe())\n",
    "        range_1 = None\n",
    "        for u in tqdm(range(int(ready.min()), int(ready.max()), step)):\n",
    "            flag = p_value_stat(ready, mu=u)\n",
    "            if flag and range_1 is None:\n",
    "                range_1 = u\n",
    "                break\n",
    "            last_u = u\n",
    "        aver[metric_name][model] = range_1\n",
    "        # print(range_1)\n",
    "aver"
   ]
  },
  {
   "cell_type": "markdown",
   "id": "595be3dc-0371-4c41-9719-bec7c07889db",
   "metadata": {},
   "source": [
    "```\n",
    "# Which model causes the highest average error\n",
    "# Which model causes the lowest average error\n",
    "\n",
    "{'mae': {'tabnet': 400600,\n",
    "  'ssl+tabnet': 441700,\n",
    "  'explainable_boosting': 341200,\n",
    "  'xgboost': 168400},\n",
    " 'mse': {'tabnet': 11405000000000,\n",
    "  'ssl+tabnet': 15450000000001,\n",
    "  'explainable_boosting': 4032000000000,\n",
    "  'xgboost': 1290000000000},\n",
    " 'mape': {'tabnet': 0,\n",
    "  'ssl+tabnet': 81935000000000000,\n",
    "  'explainable_boosting': 63072000000000000,\n",
    "  'xgboost': 55109000000000000},\n",
    " 'train_rmse': {'tabnet': 1817100,\n",
    "  'ssl+tabnet': 2163501,\n",
    "  'explainable_boosting': 968200,\n",
    "  'xgboost': 572900}}\n",
    "```"
   ]
  },
  {
   "cell_type": "code",
   "execution_count": 17,
   "id": "3b217322-51f4-4498-b05b-2a2fcfd1e086",
   "metadata": {},
   "outputs": [
    {
     "data": {
      "text/html": [
       "<div>\n",
       "<style scoped>\n",
       "    .dataframe tbody tr th:only-of-type {\n",
       "        vertical-align: middle;\n",
       "    }\n",
       "\n",
       "    .dataframe tbody tr th {\n",
       "        vertical-align: top;\n",
       "    }\n",
       "\n",
       "    .dataframe thead th {\n",
       "        text-align: right;\n",
       "    }\n",
       "</style>\n",
       "<table border=\"1\" class=\"dataframe\">\n",
       "  <thead>\n",
       "    <tr style=\"text-align: right;\">\n",
       "      <th></th>\n",
       "      <th>mae</th>\n",
       "      <th>mse</th>\n",
       "      <th>mape</th>\n",
       "      <th>train_rmse</th>\n",
       "    </tr>\n",
       "  </thead>\n",
       "  <tbody>\n",
       "    <tr>\n",
       "      <th>tabnet</th>\n",
       "      <td>400600</td>\n",
       "      <td>11405000000000</td>\n",
       "      <td>0</td>\n",
       "      <td>1817100</td>\n",
       "    </tr>\n",
       "    <tr>\n",
       "      <th>ssl+tabnet</th>\n",
       "      <td>441700</td>\n",
       "      <td>15450000000001</td>\n",
       "      <td>81935000000000000</td>\n",
       "      <td>2163501</td>\n",
       "    </tr>\n",
       "    <tr>\n",
       "      <th>explainable_boosting</th>\n",
       "      <td>341200</td>\n",
       "      <td>4032000000000</td>\n",
       "      <td>63072000000000000</td>\n",
       "      <td>968200</td>\n",
       "    </tr>\n",
       "    <tr>\n",
       "      <th>xgboost</th>\n",
       "      <td>168400</td>\n",
       "      <td>1290000000000</td>\n",
       "      <td>55109000000000000</td>\n",
       "      <td>572900</td>\n",
       "    </tr>\n",
       "  </tbody>\n",
       "</table>\n",
       "</div>"
      ],
      "text/plain": [
       "                         mae             mse               mape  train_rmse\n",
       "tabnet                400600  11405000000000                  0     1817100\n",
       "ssl+tabnet            441700  15450000000001  81935000000000000     2163501\n",
       "explainable_boosting  341200   4032000000000  63072000000000000      968200\n",
       "xgboost               168400   1290000000000  55109000000000000      572900"
      ]
     },
     "execution_count": 17,
     "metadata": {},
     "output_type": "execute_result"
    }
   ],
   "source": []
  },
  {
   "cell_type": "markdown",
   "id": "05eb3351-1e7c-43db-99c0-6dac1eeb52b5",
   "metadata": {},
   "source": [
    "# Which dataset experienced the highest average error\n",
    "# Which dataset experienced the lowest average error"
   ]
  },
  {
   "cell_type": "code",
   "execution_count": 109,
   "id": "8831fb09-6b2a-48c0-81d8-dfbf973b74ee",
   "metadata": {
    "scrolled": true
   },
   "outputs": [
    {
     "name": "stdout",
     "output_type": "stream",
     "text": [
      "=====================\n",
      "livestock_meat_import\n"
     ]
    },
    {
     "data": {
      "text/plain": [
       "(8, 20)"
      ]
     },
     "metadata": {},
     "output_type": "display_data"
    },
    {
     "name": "stderr",
     "output_type": "stream",
     "text": [
      "  0%|                                                                                                                                     | 0/1500482 [00:00<?, ?it/s]"
     ]
    },
    {
     "name": "stdout",
     "output_type": "stream",
     "text": [
      "60558\n",
      "future_sales\n"
     ]
    },
    {
     "name": "stderr",
     "output_type": "stream",
     "text": [
      "\n"
     ]
    },
    {
     "data": {
      "text/plain": [
       "(8, 20)"
      ]
     },
     "metadata": {},
     "output_type": "display_data"
    },
    {
     "name": "stderr",
     "output_type": "stream",
     "text": [
      "0it [00:00, ?it/s]"
     ]
    },
    {
     "name": "stdout",
     "output_type": "stream",
     "text": [
      "None\n",
      "product_demand\n"
     ]
    },
    {
     "name": "stderr",
     "output_type": "stream",
     "text": [
      "\n"
     ]
    },
    {
     "data": {
      "text/plain": [
       "(8, 20)"
      ]
     },
     "metadata": {},
     "output_type": "display_data"
    },
    {
     "name": "stderr",
     "output_type": "stream",
     "text": [
      "  0%|                                                                                                                                        | 0/5564 [00:00<?, ?it/s]"
     ]
    },
    {
     "name": "stdout",
     "output_type": "stream",
     "text": [
      "618\n",
      "online_retail_2\n"
     ]
    },
    {
     "name": "stderr",
     "output_type": "stream",
     "text": [
      "\n"
     ]
    },
    {
     "data": {
      "text/plain": [
       "(8, 20)"
      ]
     },
     "metadata": {},
     "output_type": "display_data"
    },
    {
     "name": "stderr",
     "output_type": "stream",
     "text": [
      "  0%|                                                                                                                                           | 0/8 [00:00<?, ?it/s]"
     ]
    },
    {
     "name": "stdout",
     "output_type": "stream",
     "text": [
      "4\n",
      "online_retail\n"
     ]
    },
    {
     "name": "stderr",
     "output_type": "stream",
     "text": [
      "\n"
     ]
    },
    {
     "data": {
      "text/plain": [
       "(8, 20)"
      ]
     },
     "metadata": {},
     "output_type": "display_data"
    },
    {
     "name": "stderr",
     "output_type": "stream",
     "text": [
      "  0%|                                                                                                                                          | 0/10 [00:00<?, ?it/s]"
     ]
    },
    {
     "name": "stdout",
     "output_type": "stream",
     "text": [
      "2\n",
      "=====================\n",
      "livestock_meat_import\n"
     ]
    },
    {
     "name": "stderr",
     "output_type": "stream",
     "text": [
      "\n"
     ]
    },
    {
     "data": {
      "text/plain": [
       "(8, 20)"
      ]
     },
     "metadata": {},
     "output_type": "display_data"
    },
    {
     "name": "stderr",
     "output_type": "stream",
     "text": [
      "  0%|                                                                                                                              | 0/63445618570813 [00:00<?, ?it/s]"
     ]
    },
    {
     "name": "stdout",
     "output_type": "stream",
     "text": [
      "24288270905\n",
      "future_sales\n"
     ]
    },
    {
     "name": "stderr",
     "output_type": "stream",
     "text": [
      "\n"
     ]
    },
    {
     "data": {
      "text/plain": [
       "(8, 20)"
      ]
     },
     "metadata": {},
     "output_type": "display_data"
    },
    {
     "name": "stderr",
     "output_type": "stream",
     "text": [
      "  0%|                                                                                                                                          | 0/18 [00:00<?, ?it/s]"
     ]
    },
    {
     "name": "stdout",
     "output_type": "stream",
     "text": [
      "0\n",
      "product_demand\n"
     ]
    },
    {
     "name": "stderr",
     "output_type": "stream",
     "text": [
      "\n"
     ]
    },
    {
     "data": {
      "text/plain": [
       "(8, 20)"
      ]
     },
     "metadata": {},
     "output_type": "display_data"
    },
    {
     "name": "stderr",
     "output_type": "stream",
     "text": [
      "  0%|                                                                                                                                   | 0/836298471 [00:00<?, ?it/s]"
     ]
    },
    {
     "name": "stdout",
     "output_type": "stream",
     "text": [
      "38450217\n",
      "online_retail_2\n"
     ]
    },
    {
     "name": "stderr",
     "output_type": "stream",
     "text": [
      "\n"
     ]
    },
    {
     "data": {
      "text/plain": [
       "(8, 20)"
      ]
     },
     "metadata": {},
     "output_type": "display_data"
    },
    {
     "name": "stderr",
     "output_type": "stream",
     "text": [
      "  0%|                                                                                                                                       | 0/74365 [00:00<?, ?it/s]"
     ]
    },
    {
     "name": "stdout",
     "output_type": "stream",
     "text": [
      "7940\n",
      "online_retail\n"
     ]
    },
    {
     "name": "stderr",
     "output_type": "stream",
     "text": [
      "\n"
     ]
    },
    {
     "data": {
      "text/plain": [
       "(8, 20)"
      ]
     },
     "metadata": {},
     "output_type": "display_data"
    },
    {
     "name": "stderr",
     "output_type": "stream",
     "text": [
      "  0%|                                                                                                                                      | 0/164678 [00:00<?, ?it/s]"
     ]
    },
    {
     "name": "stdout",
     "output_type": "stream",
     "text": [
      "141\n",
      "=====================\n",
      "livestock_meat_import\n"
     ]
    },
    {
     "name": "stderr",
     "output_type": "stream",
     "text": [
      "\n"
     ]
    },
    {
     "data": {
      "text/plain": [
       "(8, 20)"
      ]
     },
     "metadata": {},
     "output_type": "display_data"
    },
    {
     "name": "stderr",
     "output_type": "stream",
     "text": [
      "  0%|                                                                                                                                        | 0/1156 [00:00<?, ?it/s]"
     ]
    },
    {
     "name": "stdout",
     "output_type": "stream",
     "text": [
      "65\n",
      "future_sales\n"
     ]
    },
    {
     "name": "stderr",
     "output_type": "stream",
     "text": [
      "\n"
     ]
    },
    {
     "data": {
      "text/plain": [
       "(8, 20)"
      ]
     },
     "metadata": {},
     "output_type": "display_data"
    },
    {
     "name": "stderr",
     "output_type": "stream",
     "text": [
      "0it [00:00, ?it/s]"
     ]
    },
    {
     "name": "stdout",
     "output_type": "stream",
     "text": [
      "None\n",
      "product_demand\n"
     ]
    },
    {
     "name": "stderr",
     "output_type": "stream",
     "text": [
      "\n"
     ]
    },
    {
     "data": {
      "text/plain": [
       "(8, 20)"
      ]
     },
     "metadata": {},
     "output_type": "display_data"
    },
    {
     "name": "stderr",
     "output_type": "stream",
     "text": [
      "  0%|                                                                                                                          | 0/364193499487595176 [00:00<?, ?it/s]"
     ]
    },
    {
     "name": "stdout",
     "output_type": "stream",
     "text": [
      "32620537937419800\n",
      "online_retail_2\n"
     ]
    },
    {
     "name": "stderr",
     "output_type": "stream",
     "text": [
      "\n"
     ]
    },
    {
     "data": {
      "text/plain": [
       "(8, 20)"
      ]
     },
     "metadata": {},
     "output_type": "display_data"
    },
    {
     "name": "stderr",
     "output_type": "stream",
     "text": [
      "  0%|                                                                                                                                           | 0/3 [00:00<?, ?it/s]"
     ]
    },
    {
     "name": "stdout",
     "output_type": "stream",
     "text": [
      "0\n",
      "online_retail\n"
     ]
    },
    {
     "name": "stderr",
     "output_type": "stream",
     "text": [
      "\n"
     ]
    },
    {
     "data": {
      "text/plain": [
       "(8, 20)"
      ]
     },
     "metadata": {},
     "output_type": "display_data"
    },
    {
     "name": "stderr",
     "output_type": "stream",
     "text": [
      "  0%|                                                                                                                                           | 0/3 [00:00<?, ?it/s]"
     ]
    },
    {
     "name": "stdout",
     "output_type": "stream",
     "text": [
      "0\n",
      "=====================\n",
      "livestock_meat_import\n"
     ]
    },
    {
     "name": "stderr",
     "output_type": "stream",
     "text": [
      "\n"
     ]
    },
    {
     "data": {
      "text/plain": [
       "(8, 20)"
      ]
     },
     "metadata": {},
     "output_type": "display_data"
    },
    {
     "name": "stderr",
     "output_type": "stream",
     "text": [
      "  0%|                                                                                                                                     | 0/7810954 [00:00<?, ?it/s]"
     ]
    },
    {
     "name": "stdout",
     "output_type": "stream",
     "text": [
      "155846\n",
      "future_sales\n"
     ]
    },
    {
     "name": "stderr",
     "output_type": "stream",
     "text": [
      "\n"
     ]
    },
    {
     "data": {
      "text/plain": [
       "(8, 20)"
      ]
     },
     "metadata": {},
     "output_type": "display_data"
    },
    {
     "name": "stderr",
     "output_type": "stream",
     "text": [
      "  0%|                                                                                                                                           | 0/4 [00:00<?, ?it/s]"
     ]
    },
    {
     "name": "stdout",
     "output_type": "stream",
     "text": [
      "0\n",
      "product_demand\n"
     ]
    },
    {
     "name": "stderr",
     "output_type": "stream",
     "text": [
      "\n"
     ]
    },
    {
     "data": {
      "text/plain": [
       "(8, 20)"
      ]
     },
     "metadata": {},
     "output_type": "display_data"
    },
    {
     "name": "stderr",
     "output_type": "stream",
     "text": [
      "  0%|                                                                                                                                       | 0/23376 [00:00<?, ?it/s]"
     ]
    },
    {
     "name": "stdout",
     "output_type": "stream",
     "text": [
      "6200\n",
      "online_retail_2\n"
     ]
    },
    {
     "name": "stderr",
     "output_type": "stream",
     "text": [
      "\n"
     ]
    },
    {
     "data": {
      "text/plain": [
       "(8, 20)"
      ]
     },
     "metadata": {},
     "output_type": "display_data"
    },
    {
     "name": "stderr",
     "output_type": "stream",
     "text": [
      "  0%|                                                                                                                                         | 0/197 [00:00<?, ?it/s]"
     ]
    },
    {
     "name": "stdout",
     "output_type": "stream",
     "text": [
      "89\n",
      "online_retail\n"
     ]
    },
    {
     "name": "stderr",
     "output_type": "stream",
     "text": [
      "\n"
     ]
    },
    {
     "data": {
      "text/plain": [
       "(8, 20)"
      ]
     },
     "metadata": {},
     "output_type": "display_data"
    },
    {
     "name": "stderr",
     "output_type": "stream",
     "text": [
      "  0%|                                                                                                                                         | 0/394 [00:00<?, ?it/s]"
     ]
    },
    {
     "name": "stdout",
     "output_type": "stream",
     "text": [
      "11\n"
     ]
    },
    {
     "name": "stderr",
     "output_type": "stream",
     "text": [
      "\n"
     ]
    },
    {
     "data": {
      "text/plain": [
       "{'mae': {'livestock_meat_import': 60558,\n",
       "  'future_sales': None,\n",
       "  'product_demand': 618,\n",
       "  'online_retail_2': 4,\n",
       "  'online_retail': 2},\n",
       " 'mse': {'livestock_meat_import': 24288270905,\n",
       "  'future_sales': 0,\n",
       "  'product_demand': 38450217,\n",
       "  'online_retail_2': 7940,\n",
       "  'online_retail': 141},\n",
       " 'mape': {'livestock_meat_import': 65,\n",
       "  'future_sales': None,\n",
       "  'product_demand': 32620537937419800,\n",
       "  'online_retail_2': 0,\n",
       "  'online_retail': 0},\n",
       " 'train_rmse': {'livestock_meat_import': 155846,\n",
       "  'future_sales': 0,\n",
       "  'product_demand': 6200,\n",
       "  'online_retail_2': 89,\n",
       "  'online_retail': 11}}"
      ]
     },
     "execution_count": 109,
     "metadata": {},
     "output_type": "execute_result"
    }
   ],
   "source": [
    "# Which dataset experienced the highest average error\n",
    "# Which dataset experienced the lowest average error\n",
    "\n",
    "\n",
    "from tqdm import tqdm\n",
    "metrics_pair = [\n",
    "    [\"test_mae\", \"train_mae\", 1], [\"test_mse\", \"train_mse\", 1], [\"test_mape\", \"train_mape\", 1], [\"train_rmse\", \"test_rmse\", 1]\n",
    "]\n",
    "aver = {}\n",
    "for metrcs in metrics_pair:\n",
    "    print(\"=====================\")\n",
    "    a, b, step = metrcs\n",
    "    # print(metrcs)\n",
    "    metric_name = a.replace('test_', '')\n",
    "    aver[metric_name] = {}\n",
    "    # print(aver)\n",
    "    for model in df.dataset.unique():\n",
    "        print(model)\n",
    "        sel = df[df[\"dataset\"] == model]\n",
    "        ready = pd.concat([sel[a], sel[b]], axis=0)\n",
    "        # print(ready.describe())\n",
    "        range_1 = None\n",
    "        for u in tqdm(range(int(ready.min()), int(ready.max()), step)):\n",
    "            flag = p_value_stat(ready, mu=u)\n",
    "            if flag and range_1 is None:\n",
    "                range_1 = u\n",
    "                break\n",
    "            last_u = u\n",
    "        aver[metric_name][model] = range_1\n",
    "        print(range_1)\n",
    "aver"
   ]
  },
  {
   "cell_type": "markdown",
   "id": "f17681ec-82d7-4864-a5c9-807120b02560",
   "metadata": {},
   "source": [
    "```\n",
    "# Which dataset experienced the highest average error\n",
    "# Which dataset experienced the lowest average error\n",
    "\n",
    "{'mae': {'livestock_meat_import': 60558,\n",
    "  'future_sales': None,\n",
    "  'product_demand': 618,\n",
    "  'online_retail_2': 4,\n",
    "  'online_retail': 2},\n",
    " 'mse': {'livestock_meat_import': 24288270905,\n",
    "  'future_sales': 0,\n",
    "  'product_demand': 38450217,\n",
    "  'online_retail_2': 7940,\n",
    "  'online_retail': 141},\n",
    " 'mape': {'livestock_meat_import': 65,\n",
    "  'future_sales': None,\n",
    "  'product_demand': 32620537937419800,\n",
    "  'online_retail_2': 0,\n",
    "  'online_retail': 0},\n",
    " 'train_rmse': {'livestock_meat_import': 155846,\n",
    "  'future_sales': 0,\n",
    "  'product_demand': 6200,\n",
    "  'online_retail_2': 89,\n",
    "  'online_retail': 11}}\n",
    "```"
   ]
  },
  {
   "cell_type": "markdown",
   "id": "5ce8e682-4cef-43c8-8a5d-9e5a3b28d32f",
   "metadata": {},
   "source": [
    "# Which dataset+model causes the highest average error\n",
    "# Which dataset+model causes the lowest average error"
   ]
  },
  {
   "cell_type": "code",
   "execution_count": 110,
   "id": "ad06d6ef-58e7-439b-8743-0ada7bb192e6",
   "metadata": {
    "scrolled": true
   },
   "outputs": [
    {
     "name": "stdout",
     "output_type": "stream",
     "text": [
      "=====================\n",
      "['test_mae', 'train_mae', 100]\n",
      "{'mae': {}}\n",
      "livestock_meat_import tabnet\n",
      "count    4.000000e+00\n",
      "mean     9.746018e+05\n",
      "std      4.474199e+05\n",
      "min      4.644420e+05\n",
      "25%      7.748225e+05\n",
      "50%      9.424590e+05\n",
      "75%      1.142238e+06\n",
      "max      1.549047e+06\n",
      "dtype: float64\n"
     ]
    },
    {
     "name": "stderr",
     "output_type": "stream",
     "text": [
      "100%|█████████████████████████████████████████████████████████████████████████████████████████████████████████████████████████| 10847/10847 [00:02<00:00, 4641.13it/s]\n"
     ]
    },
    {
     "name": "stdout",
     "output_type": "stream",
     "text": [
      "None\n",
      "future_sales tabnet\n",
      "count    4.000000\n",
      "mean     0.256524\n",
      "std      0.155561\n",
      "min      0.122530\n",
      "25%      0.122547\n",
      "50%      0.246580\n",
      "75%      0.380558\n",
      "max      0.410407\n",
      "dtype: float64\n"
     ]
    },
    {
     "name": "stderr",
     "output_type": "stream",
     "text": [
      "0it [00:00, ?it/s]\n"
     ]
    },
    {
     "name": "stdout",
     "output_type": "stream",
     "text": [
      "None\n",
      "product_demand tabnet\n",
      "count       4.000000\n",
      "mean     4722.096848\n",
      "std      1513.696823\n",
      "min      3351.997595\n",
      "25%      3446.132691\n",
      "50%      4692.874551\n",
      "75%      5968.838708\n",
      "max      6150.640694\n",
      "dtype: float64\n"
     ]
    },
    {
     "name": "stderr",
     "output_type": "stream",
     "text": [
      "100%|███████████████████████████████████████████████████████████████████████████████████████████████████████████████████████████████| 28/28 [00:00<00:00, 4010.81it/s]\n"
     ]
    },
    {
     "name": "stdout",
     "output_type": "stream",
     "text": [
      "None\n",
      "online_retail_2 tabnet\n",
      "count     4.000000\n",
      "mean     10.173892\n",
      "std       1.548105\n",
      "min       8.584840\n",
      "25%       9.039337\n",
      "50%      10.104449\n",
      "75%      11.239005\n",
      "max      11.901832\n",
      "dtype: float64\n"
     ]
    },
    {
     "name": "stderr",
     "output_type": "stream",
     "text": [
      "100%|█████████████████████████████████████████████████████████████████████████████████████████████████████████████████████████████████| 1/1 [00:00<00:00, 3472.11it/s]\n"
     ]
    },
    {
     "name": "stdout",
     "output_type": "stream",
     "text": [
      "None\n",
      "online_retail tabnet\n",
      "count     4.000000\n",
      "mean     11.874325\n",
      "std       0.535914\n",
      "min      11.239903\n",
      "25%      11.624418\n",
      "50%      11.861777\n",
      "75%      12.111683\n",
      "max      12.533842\n",
      "dtype: float64\n"
     ]
    },
    {
     "name": "stderr",
     "output_type": "stream",
     "text": [
      "  0%|                                                                                                                                           | 0/1 [00:00<?, ?it/s]\n"
     ]
    },
    {
     "name": "stdout",
     "output_type": "stream",
     "text": [
      "11\n",
      "livestock_meat_import ssl+tabnet\n",
      "count    4.000000e+00\n",
      "mean     1.094310e+06\n",
      "std      3.878758e+05\n",
      "min      7.461923e+05\n",
      "25%      7.651142e+05\n",
      "50%      1.090766e+06\n",
      "75%      1.419961e+06\n",
      "max      1.449515e+06\n",
      "dtype: float64\n"
     ]
    },
    {
     "name": "stderr",
     "output_type": "stream",
     "text": [
      "100%|███████████████████████████████████████████████████████████████████████████████████████████████████████████████████████████| 7034/7034 [00:01<00:00, 4624.16it/s]\n"
     ]
    },
    {
     "name": "stdout",
     "output_type": "stream",
     "text": [
      "None\n",
      "future_sales ssl+tabnet\n",
      "count    4.000000\n",
      "mean     0.576160\n",
      "std      0.176886\n",
      "min      0.417100\n",
      "25%      0.426365\n",
      "50%      0.573163\n",
      "75%      0.722958\n",
      "max      0.741214\n",
      "dtype: float64\n"
     ]
    },
    {
     "name": "stderr",
     "output_type": "stream",
     "text": [
      "0it [00:00, ?it/s]\n"
     ]
    },
    {
     "name": "stdout",
     "output_type": "stream",
     "text": [
      "None\n",
      "product_demand ssl+tabnet\n",
      "count       4.000000\n",
      "mean     3972.222791\n",
      "std      2419.159975\n",
      "min      1835.859690\n",
      "25%      1900.624245\n",
      "50%      3935.123452\n",
      "75%      6006.721998\n",
      "max      6182.784568\n",
      "dtype: float64\n"
     ]
    },
    {
     "name": "stderr",
     "output_type": "stream",
     "text": [
      "100%|███████████████████████████████████████████████████████████████████████████████████████████████████████████████████████████████| 44/44 [00:00<00:00, 4104.84it/s]\n"
     ]
    },
    {
     "name": "stdout",
     "output_type": "stream",
     "text": [
      "None\n",
      "online_retail_2 ssl+tabnet\n",
      "count     4.000000\n",
      "mean     11.892344\n",
      "std       0.661550\n",
      "min      11.010997\n",
      "25%      11.723810\n",
      "50%      11.971242\n",
      "75%      12.139777\n",
      "max      12.615896\n",
      "dtype: float64\n"
     ]
    },
    {
     "name": "stderr",
     "output_type": "stream",
     "text": [
      "100%|█████████████████████████████████████████████████████████████████████████████████████████████████████████████████████████████████| 1/1 [00:00<00:00, 3289.65it/s]\n"
     ]
    },
    {
     "name": "stdout",
     "output_type": "stream",
     "text": [
      "None\n",
      "online_retail ssl+tabnet\n",
      "count     4.000000\n",
      "mean      8.830122\n",
      "std       3.344082\n",
      "min       5.927667\n",
      "25%       5.938711\n",
      "50%       8.780992\n",
      "75%      11.672402\n",
      "max      11.830836\n",
      "dtype: float64\n"
     ]
    },
    {
     "name": "stderr",
     "output_type": "stream",
     "text": [
      "100%|█████████████████████████████████████████████████████████████████████████████████████████████████████████████████████████████████| 1/1 [00:00<00:00, 3398.95it/s]\n"
     ]
    },
    {
     "name": "stdout",
     "output_type": "stream",
     "text": [
      "None\n",
      "livestock_meat_import explainable_boosting\n",
      "count    4.000000e+00\n",
      "mean     7.229908e+05\n",
      "std      7.437627e+05\n",
      "min      6.055827e+04\n",
      "25%      1.154090e+05\n",
      "50%      6.351822e+05\n",
      "75%      1.242764e+06\n",
      "max      1.561041e+06\n",
      "dtype: float64\n"
     ]
    },
    {
     "name": "stderr",
     "output_type": "stream",
     "text": [
      "100%|█████████████████████████████████████████████████████████████████████████████████████████████████████████████████████████| 15005/15005 [00:03<00:00, 4688.58it/s]\n"
     ]
    },
    {
     "name": "stdout",
     "output_type": "stream",
     "text": [
      "None\n",
      "future_sales explainable_boosting\n",
      "count    4.000000\n",
      "mean     0.230710\n",
      "std      0.243415\n",
      "min      0.014434\n",
      "25%      0.026364\n",
      "50%      0.212231\n",
      "75%      0.416577\n",
      "max      0.483942\n",
      "dtype: float64\n"
     ]
    },
    {
     "name": "stderr",
     "output_type": "stream",
     "text": [
      "0it [00:00, ?it/s]\n"
     ]
    },
    {
     "name": "stdout",
     "output_type": "stream",
     "text": [
      "None\n",
      "product_demand explainable_boosting\n",
      "count       4.000000\n",
      "mean     3243.715781\n",
      "std      2991.971982\n",
      "min       618.919013\n",
      "25%       670.478179\n",
      "50%      3221.946698\n",
      "75%      5795.184300\n",
      "max      5912.050717\n",
      "dtype: float64\n"
     ]
    },
    {
     "name": "stderr",
     "output_type": "stream",
     "text": [
      "100%|███████████████████████████████████████████████████████████████████████████████████████████████████████████████████████████████| 53/53 [00:00<00:00, 4109.17it/s]\n"
     ]
    },
    {
     "name": "stdout",
     "output_type": "stream",
     "text": [
      "None\n",
      "online_retail_2 explainable_boosting\n",
      "count     4.000000\n",
      "mean      8.296597\n",
      "std       4.269183\n",
      "min       4.521213\n",
      "25%       4.658012\n",
      "50%       8.127643\n",
      "75%      11.766228\n",
      "max      12.409889\n",
      "dtype: float64\n"
     ]
    },
    {
     "name": "stderr",
     "output_type": "stream",
     "text": [
      "100%|█████████████████████████████████████████████████████████████████████████████████████████████████████████████████████████████████| 1/1 [00:00<00:00, 3134.76it/s]\n"
     ]
    },
    {
     "name": "stdout",
     "output_type": "stream",
     "text": [
      "None\n",
      "online_retail explainable_boosting\n",
      "count     4.000000\n",
      "mean      8.418395\n",
      "std       2.140417\n",
      "min       6.207746\n",
      "25%       6.857063\n",
      "50%       8.333272\n",
      "75%       9.894604\n",
      "max      10.799288\n",
      "dtype: float64\n"
     ]
    },
    {
     "name": "stderr",
     "output_type": "stream",
     "text": [
      "100%|█████████████████████████████████████████████████████████████████████████████████████████████████████████████████████████████████| 1/1 [00:00<00:00, 3123.09it/s]\n"
     ]
    },
    {
     "name": "stdout",
     "output_type": "stream",
     "text": [
      "None\n",
      "livestock_meat_import xgboost\n",
      "count         4.000000\n",
      "mean     373479.240813\n",
      "std      319508.162718\n",
      "min       90219.848774\n",
      "25%      106063.208906\n",
      "50%      346014.503164\n",
      "75%      613430.535072\n",
      "max      711668.108151\n",
      "dtype: float64\n"
     ]
    },
    {
     "name": "stderr",
     "output_type": "stream",
     "text": [
      "100%|███████████████████████████████████████████████████████████████████████████████████████████████████████████████████████████| 6215/6215 [00:01<00:00, 4542.53it/s]\n"
     ]
    },
    {
     "name": "stdout",
     "output_type": "stream",
     "text": [
      "None\n",
      "future_sales xgboost\n",
      "count    4.000000\n",
      "mean     0.194729\n",
      "std      0.200792\n",
      "min      0.017756\n",
      "25%      0.023884\n",
      "50%      0.183742\n",
      "75%      0.354587\n",
      "max      0.393676\n",
      "dtype: float64\n"
     ]
    },
    {
     "name": "stderr",
     "output_type": "stream",
     "text": [
      "0it [00:00, ?it/s]\n"
     ]
    },
    {
     "name": "stdout",
     "output_type": "stream",
     "text": [
      "None\n",
      "product_demand xgboost\n",
      "count       4.000000\n",
      "mean     3139.045258\n",
      "std      2507.382147\n",
      "min       902.665542\n",
      "25%      1002.467076\n",
      "50%      3123.416486\n",
      "75%      5259.994667\n",
      "max      5406.682516\n",
      "dtype: float64\n"
     ]
    },
    {
     "name": "stderr",
     "output_type": "stream",
     "text": [
      "100%|███████████████████████████████████████████████████████████████████████████████████████████████████████████████████████████████| 46/46 [00:00<00:00, 4127.02it/s]\n"
     ]
    },
    {
     "name": "stdout",
     "output_type": "stream",
     "text": [
      "None\n",
      "online_retail_2 xgboost\n",
      "count     4.000000\n",
      "mean      8.537844\n",
      "std       3.349871\n",
      "min       5.705186\n",
      "25%       5.719262\n",
      "50%       8.070675\n",
      "75%      10.889257\n",
      "max      12.304840\n",
      "dtype: float64\n"
     ]
    },
    {
     "name": "stderr",
     "output_type": "stream",
     "text": [
      "100%|█████████████████████████████████████████████████████████████████████████████████████████████████████████████████████████████████| 1/1 [00:00<00:00, 3256.45it/s]\n"
     ]
    },
    {
     "name": "stdout",
     "output_type": "stream",
     "text": [
      "None\n",
      "online_retail xgboost\n",
      "count     4.000000\n",
      "mean      7.070690\n",
      "std       5.158166\n",
      "min       2.019577\n",
      "25%       3.023265\n",
      "50%       6.890798\n",
      "75%      10.938223\n",
      "max      12.481588\n",
      "dtype: float64\n"
     ]
    },
    {
     "name": "stderr",
     "output_type": "stream",
     "text": [
      "100%|█████████████████████████████████████████████████████████████████████████████████████████████████████████████████████████████████| 1/1 [00:00<00:00, 3057.07it/s]\n"
     ]
    },
    {
     "name": "stdout",
     "output_type": "stream",
     "text": [
      "None\n",
      "=====================\n",
      "['test_mse', 'train_mse', 1000000000]\n",
      "{'mae': {'tabnet': {'livestock_meat_import': None, 'future_sales': None, 'product_demand': None, 'online_retail_2': None, 'online_retail': 11}, 'ssl+tabnet': {'livestock_meat_import': None, 'future_sales': None, 'product_demand': None, 'online_retail_2': None, 'online_retail': None}, 'explainable_boosting': {'livestock_meat_import': None, 'future_sales': None, 'product_demand': None, 'online_retail_2': None, 'online_retail': None}, 'xgboost': {'livestock_meat_import': None, 'future_sales': None, 'product_demand': None, 'online_retail_2': None, 'online_retail': None}}, 'mse': {}}\n",
      "livestock_meat_import tabnet\n",
      "count    4.000000e+00\n",
      "mean     2.391408e+13\n",
      "std      2.564488e+13\n",
      "min      2.224819e+12\n",
      "25%      4.460931e+12\n",
      "50%      1.817280e+13\n",
      "75%      3.762595e+13\n",
      "max      5.708591e+13\n",
      "dtype: float64\n"
     ]
    },
    {
     "name": "stderr",
     "output_type": "stream",
     "text": [
      "100%|█████████████████████████████████████████████████████████████████████████████████████████████████████████████████████████| 54862/54862 [00:11<00:00, 4660.77it/s]\n"
     ]
    },
    {
     "name": "stdout",
     "output_type": "stream",
     "text": [
      "None\n",
      "future_sales tabnet\n",
      "count     4.000000\n",
      "mean      5.963373\n",
      "std       8.601000\n",
      "min       0.561113\n",
      "25%       0.956029\n",
      "50%       2.284559\n",
      "75%       7.291902\n",
      "max      18.723260\n",
      "dtype: float64\n"
     ]
    },
    {
     "name": "stderr",
     "output_type": "stream",
     "text": [
      "100%|█████████████████████████████████████████████████████████████████████████████████████████████████████████████████████████████████| 1/1 [00:00<00:00, 3059.30it/s]\n"
     ]
    },
    {
     "name": "stdout",
     "output_type": "stream",
     "text": [
      "None\n",
      "product_demand tabnet\n",
      "count    4.000000e+00\n",
      "mean     4.404052e+08\n",
      "std      3.944374e+08\n",
      "min      9.381399e+07\n",
      "25%      1.028478e+08\n",
      "50%      4.249712e+08\n",
      "75%      7.625286e+08\n",
      "max      8.178646e+08\n",
      "dtype: float64\n"
     ]
    },
    {
     "name": "stderr",
     "output_type": "stream",
     "text": [
      "100%|█████████████████████████████████████████████████████████████████████████████████████████████████████████████████████████████████| 1/1 [00:00<00:00, 3059.30it/s]\n"
     ]
    },
    {
     "name": "stdout",
     "output_type": "stream",
     "text": [
      "None\n",
      "online_retail_2 tabnet\n",
      "count        4.000000\n",
      "mean     42985.302240\n",
      "std      29861.224364\n",
      "min      15763.067225\n",
      "25%      22001.737163\n",
      "50%      37058.210240\n",
      "75%      58041.775317\n",
      "max      82061.721255\n",
      "dtype: float64\n"
     ]
    },
    {
     "name": "stderr",
     "output_type": "stream",
     "text": [
      "100%|█████████████████████████████████████████████████████████████████████████████████████████████████████████████████████████████████| 1/1 [00:00<00:00, 2666.44it/s]\n"
     ]
    },
    {
     "name": "stdout",
     "output_type": "stream",
     "text": [
      "None\n",
      "online_retail tabnet\n",
      "count         4.000000\n",
      "mean      90022.481186\n",
      "std       67906.590253\n",
      "min       28770.825157\n",
      "25%       34347.576654\n",
      "50%       83472.267461\n",
      "75%      139147.171993\n",
      "max      164374.564662\n",
      "dtype: float64\n"
     ]
    },
    {
     "name": "stderr",
     "output_type": "stream",
     "text": [
      "100%|█████████████████████████████████████████████████████████████████████████████████████████████████████████████████████████████████| 1/1 [00:00<00:00, 1852.61it/s]\n"
     ]
    },
    {
     "name": "stdout",
     "output_type": "stream",
     "text": [
      "None\n",
      "livestock_meat_import ssl+tabnet\n",
      "count    4.000000e+00\n",
      "mean     3.341803e+13\n",
      "std      3.210499e+13\n",
      "min      5.310342e+12\n",
      "25%      5.839157e+12\n",
      "50%      3.244594e+13\n",
      "75%      6.002482e+13\n",
      "max      6.346991e+13\n",
      "dtype: float64\n"
     ]
    },
    {
     "name": "stderr",
     "output_type": "stream",
     "text": [
      "100%|█████████████████████████████████████████████████████████████████████████████████████████████████████████████████████████| 58160/58160 [00:12<00:00, 4718.24it/s]\n"
     ]
    },
    {
     "name": "stdout",
     "output_type": "stream",
     "text": [
      "None\n",
      "future_sales ssl+tabnet\n",
      "count     4.000000\n",
      "mean      6.788613\n",
      "std       8.124095\n",
      "min       1.386241\n",
      "25%       2.664258\n",
      "50%       3.444212\n",
      "75%       7.568568\n",
      "max      18.879788\n",
      "dtype: float64\n"
     ]
    },
    {
     "name": "stderr",
     "output_type": "stream",
     "text": [
      "100%|█████████████████████████████████████████████████████████████████████████████████████████████████████████████████████████████████| 1/1 [00:00<00:00, 3302.60it/s]\n"
     ]
    },
    {
     "name": "stdout",
     "output_type": "stream",
     "text": [
      "None\n",
      "product_demand ssl+tabnet\n",
      "count    4.000000e+00\n",
      "mean     4.311505e+08\n",
      "std      4.512595e+08\n",
      "min      3.845022e+07\n",
      "25%      4.419245e+07\n",
      "50%      4.057015e+08\n",
      "75%      7.926596e+08\n",
      "max      8.747487e+08\n",
      "dtype: float64\n"
     ]
    },
    {
     "name": "stderr",
     "output_type": "stream",
     "text": [
      "100%|█████████████████████████████████████████████████████████████████████████████████████████████████████████████████████████████████| 1/1 [00:00<00:00, 3266.59it/s]\n"
     ]
    },
    {
     "name": "stdout",
     "output_type": "stream",
     "text": [
      "None\n",
      "online_retail_2 ssl+tabnet\n",
      "count        4.000000\n",
      "mean     48347.223723\n",
      "std      31433.643469\n",
      "min      19193.421050\n",
      "25%      22857.352181\n",
      "50%      46062.466592\n",
      "75%      71552.338134\n",
      "max      82070.540657\n",
      "dtype: float64\n"
     ]
    },
    {
     "name": "stderr",
     "output_type": "stream",
     "text": [
      "100%|█████████████████████████████████████████████████████████████████████████████████████████████████████████████████████████████████| 1/1 [00:00<00:00, 2571.61it/s]\n"
     ]
    },
    {
     "name": "stdout",
     "output_type": "stream",
     "text": [
      "None\n",
      "online_retail ssl+tabnet\n",
      "count         4.000000\n",
      "mean      75089.092969\n",
      "std       65039.183745\n",
      "min       18776.395493\n",
      "25%       31817.892829\n",
      "50%       58612.389111\n",
      "75%      101883.589251\n",
      "max      164355.198161\n",
      "dtype: float64\n"
     ]
    },
    {
     "name": "stderr",
     "output_type": "stream",
     "text": [
      "100%|█████████████████████████████████████████████████████████████████████████████████████████████████████████████████████████████████| 1/1 [00:00<00:00, 2832.08it/s]\n"
     ]
    },
    {
     "name": "stdout",
     "output_type": "stream",
     "text": [
      "None\n",
      "livestock_meat_import explainable_boosting\n",
      "count    4.000000e+00\n",
      "mean     7.478288e+12\n",
      "std      1.123508e+13\n",
      "min      2.428827e+10\n",
      "25%      6.953410e+11\n",
      "50%      2.933466e+12\n",
      "75%      9.716413e+12\n",
      "max      2.402193e+13\n",
      "dtype: float64\n"
     ]
    },
    {
     "name": "stderr",
     "output_type": "stream",
     "text": [
      "100%|█████████████████████████████████████████████████████████████████████████████████████████████████████████████████████████| 23998/23998 [00:05<00:00, 4586.68it/s]\n"
     ]
    },
    {
     "name": "stdout",
     "output_type": "stream",
     "text": [
      "None\n",
      "future_sales explainable_boosting\n",
      "count     4.000000\n",
      "mean      7.816604\n",
      "std       8.076165\n",
      "min       0.264924\n",
      "25%       2.504006\n",
      "50%       6.207837\n",
      "75%      11.520435\n",
      "max      18.585817\n",
      "dtype: float64\n"
     ]
    },
    {
     "name": "stderr",
     "output_type": "stream",
     "text": [
      "100%|█████████████████████████████████████████████████████████████████████████████████████████████████████████████████████████████████| 1/1 [00:00<00:00, 2916.76it/s]\n"
     ]
    },
    {
     "name": "stdout",
     "output_type": "stream",
     "text": [
      "None\n",
      "product_demand explainable_boosting\n",
      "count    4.000000e+00\n",
      "mean     4.261222e+08\n",
      "std      3.613915e+08\n",
      "min      1.004000e+08\n",
      "25%      1.220218e+08\n",
      "50%      4.116906e+08\n",
      "75%      7.157910e+08\n",
      "max      7.807076e+08\n",
      "dtype: float64\n"
     ]
    },
    {
     "name": "stderr",
     "output_type": "stream",
     "text": [
      "100%|█████████████████████████████████████████████████████████████████████████████████████████████████████████████████████████████████| 1/1 [00:00<00:00, 2809.31it/s]\n"
     ]
    },
    {
     "name": "stdout",
     "output_type": "stream",
     "text": [
      "None\n",
      "online_retail_2 explainable_boosting\n",
      "count        4.000000\n",
      "mean     45967.746682\n",
      "std      32961.589373\n",
      "min      13995.285069\n",
      "25%      20326.741108\n",
      "50%      43847.615326\n",
      "75%      69488.620900\n",
      "max      82180.471009\n",
      "dtype: float64\n"
     ]
    },
    {
     "name": "stderr",
     "output_type": "stream",
     "text": [
      "100%|█████████████████████████████████████████████████████████████████████████████████████████████████████████████████████████████████| 1/1 [00:00<00:00, 3104.59it/s]\n"
     ]
    },
    {
     "name": "stdout",
     "output_type": "stream",
     "text": [
      "None\n",
      "online_retail explainable_boosting\n",
      "count         4.000000\n",
      "mean      97261.055348\n",
      "std       72856.334341\n",
      "min       32829.231394\n",
      "25%       34936.892079\n",
      "50%       96004.030810\n",
      "75%      158328.194079\n",
      "max      164206.928379\n",
      "dtype: float64\n"
     ]
    },
    {
     "name": "stderr",
     "output_type": "stream",
     "text": [
      "100%|█████████████████████████████████████████████████████████████████████████████████████████████████████████████████████████████████| 1/1 [00:00<00:00, 2501.08it/s]\n"
     ]
    },
    {
     "name": "stdout",
     "output_type": "stream",
     "text": [
      "None\n",
      "livestock_meat_import xgboost\n",
      "count    4.000000e+00\n",
      "mean     2.492534e+12\n",
      "std      3.387206e+12\n",
      "min      1.485061e+11\n",
      "25%      2.003883e+11\n",
      "50%      1.231008e+12\n",
      "75%      3.523154e+12\n",
      "max      7.359616e+12\n",
      "dtype: float64\n"
     ]
    },
    {
     "name": "stderr",
     "output_type": "stream",
     "text": [
      "100%|███████████████████████████████████████████████████████████████████████████████████████████████████████████████████████████| 7212/7212 [00:01<00:00, 4551.22it/s]\n"
     ]
    },
    {
     "name": "stdout",
     "output_type": "stream",
     "text": [
      "None\n",
      "future_sales xgboost\n",
      "count     4.000000\n",
      "mean      5.850396\n",
      "std       6.484903\n",
      "min       0.009624\n",
      "25%       2.044736\n",
      "50%       4.235999\n",
      "75%       8.041659\n",
      "max      14.919962\n",
      "dtype: float64\n"
     ]
    },
    {
     "name": "stderr",
     "output_type": "stream",
     "text": [
      "100%|█████████████████████████████████████████████████████████████████████████████████████████████████████████████████████████████████| 1/1 [00:00<00:00, 3387.97it/s]\n"
     ]
    },
    {
     "name": "stdout",
     "output_type": "stream",
     "text": [
      "None\n",
      "product_demand xgboost\n",
      "count    4.000000e+00\n",
      "mean     4.094126e+08\n",
      "std      3.102470e+08\n",
      "min      1.121808e+08\n",
      "25%      1.579403e+08\n",
      "50%      4.076052e+08\n",
      "75%      6.590775e+08\n",
      "max      7.102590e+08\n",
      "dtype: float64\n"
     ]
    },
    {
     "name": "stderr",
     "output_type": "stream",
     "text": [
      "100%|█████████████████████████████████████████████████████████████████████████████████████████████████████████████████████████████████| 1/1 [00:00<00:00, 3050.40it/s]\n"
     ]
    },
    {
     "name": "stdout",
     "output_type": "stream",
     "text": [
      "None\n",
      "online_retail_2 xgboost\n",
      "count        4.000000\n",
      "mean     47491.394579\n",
      "std      39260.484189\n",
      "min       7940.541665\n",
      "25%      16652.084032\n",
      "50%      49859.591965\n",
      "75%      80698.902511\n",
      "max      82305.852720\n",
      "dtype: float64\n"
     ]
    },
    {
     "name": "stderr",
     "output_type": "stream",
     "text": [
      "100%|█████████████████████████████████████████████████████████████████████████████████████████████████████████████████████████████████| 1/1 [00:00<00:00, 2941.31it/s]\n"
     ]
    },
    {
     "name": "stdout",
     "output_type": "stream",
     "text": [
      "None\n",
      "online_retail xgboost\n",
      "count         4.000000\n",
      "mean      71028.812526\n",
      "std       71216.874805\n",
      "min         141.578359\n",
      "25%       26878.433957\n",
      "50%       59577.177406\n",
      "75%      103727.555975\n",
      "max      164819.316934\n",
      "dtype: float64\n"
     ]
    },
    {
     "name": "stderr",
     "output_type": "stream",
     "text": [
      "100%|█████████████████████████████████████████████████████████████████████████████████████████████████████████████████████████████████| 1/1 [00:00<00:00, 2849.39it/s]\n"
     ]
    },
    {
     "name": "stdout",
     "output_type": "stream",
     "text": [
      "None\n",
      "=====================\n",
      "['test_mape', 'train_mape', 1000000000000]\n",
      "{'mae': {'tabnet': {'livestock_meat_import': None, 'future_sales': None, 'product_demand': None, 'online_retail_2': None, 'online_retail': 11}, 'ssl+tabnet': {'livestock_meat_import': None, 'future_sales': None, 'product_demand': None, 'online_retail_2': None, 'online_retail': None}, 'explainable_boosting': {'livestock_meat_import': None, 'future_sales': None, 'product_demand': None, 'online_retail_2': None, 'online_retail': None}, 'xgboost': {'livestock_meat_import': None, 'future_sales': None, 'product_demand': None, 'online_retail_2': None, 'online_retail': None}}, 'mse': {'tabnet': {'livestock_meat_import': None, 'future_sales': None, 'product_demand': None, 'online_retail_2': None, 'online_retail': None}, 'ssl+tabnet': {'livestock_meat_import': None, 'future_sales': None, 'product_demand': None, 'online_retail_2': None, 'online_retail': None}, 'explainable_boosting': {'livestock_meat_import': None, 'future_sales': None, 'product_demand': None, 'online_retail_2': None, 'online_retail': None}, 'xgboost': {'livestock_meat_import': None, 'future_sales': None, 'product_demand': None, 'online_retail_2': None, 'online_retail': None}}, 'mape': {}}\n",
      "livestock_meat_import tabnet\n",
      "count      4.000000\n",
      "mean     814.584014\n",
      "std      187.486205\n",
      "min      650.615118\n",
      "25%      653.048235\n",
      "50%      813.736325\n",
      "75%      975.272104\n",
      "max      980.248290\n",
      "dtype: float64\n"
     ]
    },
    {
     "name": "stderr",
     "output_type": "stream",
     "text": [
      "100%|█████████████████████████████████████████████████████████████████████████████████████████████████████████████████████████████████| 1/1 [00:00<00:00, 2968.37it/s]\n"
     ]
    },
    {
     "name": "stdout",
     "output_type": "stream",
     "text": [
      "None\n",
      "future_sales tabnet\n",
      "count    4.000000\n",
      "mean     0.137407\n",
      "std      0.104261\n",
      "min      0.046610\n",
      "25%      0.047933\n",
      "50%      0.132025\n",
      "75%      0.221499\n",
      "max      0.238966\n",
      "dtype: float64\n"
     ]
    },
    {
     "name": "stderr",
     "output_type": "stream",
     "text": [
      "0it [00:00, ?it/s]\n"
     ]
    },
    {
     "name": "stdout",
     "output_type": "stream",
     "text": [
      "None\n",
      "product_demand tabnet\n",
      "count    4.000000e+00\n",
      "mean     3.078024e+17\n",
      "std      7.417904e+16\n",
      "min      2.413361e+17\n",
      "25%      2.495587e+17\n",
      "50%      2.965297e+17\n",
      "75%      3.547734e+17\n",
      "max      3.968140e+17\n",
      "dtype: float64\n"
     ]
    },
    {
     "name": "stderr",
     "output_type": "stream",
     "text": [
      "100%|███████████████████████████████████████████████████████████████████████████████████████████████████████████████████████| 155478/155478 [00:33<00:00, 4636.41it/s]\n"
     ]
    },
    {
     "name": "stdout",
     "output_type": "stream",
     "text": [
      "None\n",
      "online_retail_2 tabnet\n",
      "count    4.000000\n",
      "mean     2.181301\n",
      "std      0.077665\n",
      "min      2.114878\n",
      "25%      2.122312\n",
      "50%      2.164630\n",
      "75%      2.223619\n",
      "max      2.281066\n",
      "dtype: float64\n"
     ]
    },
    {
     "name": "stderr",
     "output_type": "stream",
     "text": [
      "0it [00:00, ?it/s]\n"
     ]
    },
    {
     "name": "stdout",
     "output_type": "stream",
     "text": [
      "None\n",
      "online_retail tabnet\n",
      "count    4.000000\n",
      "mean     2.899922\n",
      "std      0.660989\n",
      "min      2.275503\n",
      "25%      2.607813\n",
      "50%      2.745334\n",
      "75%      3.037443\n",
      "max      3.833515\n",
      "dtype: float64\n"
     ]
    },
    {
     "name": "stderr",
     "output_type": "stream",
     "text": [
      "100%|█████████████████████████████████████████████████████████████████████████████████████████████████████████████████████████████████| 1/1 [00:00<00:00, 2644.58it/s]\n"
     ]
    },
    {
     "name": "stdout",
     "output_type": "stream",
     "text": [
      "None\n",
      "livestock_meat_import ssl+tabnet\n",
      "count      4.000000\n",
      "mean     326.586692\n",
      "std      237.625454\n",
      "min      118.592548\n",
      "25%      121.961293\n",
      "50%      325.016869\n",
      "75%      529.642269\n",
      "max      537.720481\n",
      "dtype: float64\n"
     ]
    },
    {
     "name": "stderr",
     "output_type": "stream",
     "text": [
      "100%|█████████████████████████████████████████████████████████████████████████████████████████████████████████████████████████████████| 1/1 [00:00<00:00, 3302.60it/s]\n"
     ]
    },
    {
     "name": "stdout",
     "output_type": "stream",
     "text": [
      "None\n",
      "future_sales ssl+tabnet\n",
      "count    4.000000\n",
      "mean     0.448783\n",
      "std      0.231079\n",
      "min      0.247771\n",
      "25%      0.249427\n",
      "50%      0.442838\n",
      "75%      0.642193\n",
      "max      0.661687\n",
      "dtype: float64\n"
     ]
    },
    {
     "name": "stderr",
     "output_type": "stream",
     "text": [
      "0it [00:00, ?it/s]\n"
     ]
    },
    {
     "name": "stdout",
     "output_type": "stream",
     "text": [
      "None\n",
      "product_demand ssl+tabnet\n",
      "count    4.000000e+00\n",
      "mean     1.987877e+17\n",
      "std      9.635944e+16\n",
      "min      9.737796e+16\n",
      "25%      1.335049e+17\n",
      "50%      1.921932e+17\n",
      "75%      2.574759e+17\n",
      "max      3.133862e+17\n",
      "dtype: float64\n"
     ]
    },
    {
     "name": "stderr",
     "output_type": "stream",
     "text": [
      "100%|███████████████████████████████████████████████████████████████████████████████████████████████████████████████████████| 216009/216009 [00:46<00:00, 4683.44it/s]\n"
     ]
    },
    {
     "name": "stdout",
     "output_type": "stream",
     "text": [
      "None\n",
      "online_retail_2 ssl+tabnet\n",
      "count    4.000000\n",
      "mean     2.816174\n",
      "std      0.800609\n",
      "min      2.114718\n",
      "25%      2.128657\n",
      "50%      2.792549\n",
      "75%      3.480066\n",
      "max      3.564879\n",
      "dtype: float64\n"
     ]
    },
    {
     "name": "stderr",
     "output_type": "stream",
     "text": [
      "100%|█████████████████████████████████████████████████████████████████████████████████████████████████████████████████████████████████| 1/1 [00:00<00:00, 2833.99it/s]\n"
     ]
    },
    {
     "name": "stdout",
     "output_type": "stream",
     "text": [
      "None\n",
      "online_retail ssl+tabnet\n",
      "count    4.000000\n",
      "mean     1.868301\n",
      "std      0.739203\n",
      "min      1.168665\n",
      "25%      1.287812\n",
      "50%      1.803116\n",
      "75%      2.383605\n",
      "max      2.698305\n",
      "dtype: float64\n"
     ]
    },
    {
     "name": "stderr",
     "output_type": "stream",
     "text": [
      "100%|█████████████████████████████████████████████████████████████████████████████████████████████████████████████████████████████████| 1/1 [00:00<00:00, 3597.17it/s]\n"
     ]
    },
    {
     "name": "stdout",
     "output_type": "stream",
     "text": [
      "None\n",
      "livestock_meat_import explainable_boosting\n",
      "count       4.000000\n",
      "mean      625.917763\n",
      "std       557.285975\n",
      "min       115.189020\n",
      "25%       169.822024\n",
      "50%       583.731834\n",
      "75%      1039.827572\n",
      "max      1221.018364\n",
      "dtype: float64\n"
     ]
    },
    {
     "name": "stderr",
     "output_type": "stream",
     "text": [
      "100%|█████████████████████████████████████████████████████████████████████████████████████████████████████████████████████████████████| 1/1 [00:00<00:00, 2993.79it/s]\n"
     ]
    },
    {
     "name": "stdout",
     "output_type": "stream",
     "text": [
      "None\n",
      "future_sales explainable_boosting\n",
      "count    4.000000\n",
      "mean     0.150394\n",
      "std      0.161627\n",
      "min      0.010249\n",
      "25%      0.013580\n",
      "50%      0.134668\n",
      "75%      0.271482\n",
      "max      0.321990\n",
      "dtype: float64\n"
     ]
    },
    {
     "name": "stderr",
     "output_type": "stream",
     "text": [
      "0it [00:00, ?it/s]\n"
     ]
    },
    {
     "name": "stdout",
     "output_type": "stream",
     "text": [
      "None\n",
      "product_demand explainable_boosting\n",
      "count    4.000000e+00\n",
      "mean     1.418258e+17\n",
      "std      1.156397e+17\n",
      "min      3.262054e+16\n",
      "25%      5.080102e+16\n",
      "50%      1.316001e+17\n",
      "75%      2.226249e+17\n",
      "max      2.714827e+17\n",
      "dtype: float64\n"
     ]
    },
    {
     "name": "stderr",
     "output_type": "stream",
     "text": [
      "100%|███████████████████████████████████████████████████████████████████████████████████████████████████████████████████████| 238863/238863 [00:50<00:00, 4709.04it/s]\n"
     ]
    },
    {
     "name": "stdout",
     "output_type": "stream",
     "text": [
      "None\n",
      "online_retail_2 explainable_boosting\n",
      "count    4.000000\n",
      "mean     1.722433\n",
      "std      1.127866\n",
      "min      0.776671\n",
      "25%      0.782405\n",
      "50%      1.541580\n",
      "75%      2.481607\n",
      "max      3.029900\n",
      "dtype: float64\n"
     ]
    },
    {
     "name": "stderr",
     "output_type": "stream",
     "text": [
      "100%|█████████████████████████████████████████████████████████████████████████████████████████████████████████████████████████████████| 1/1 [00:00<00:00, 3165.51it/s]\n"
     ]
    },
    {
     "name": "stdout",
     "output_type": "stream",
     "text": [
      "None\n",
      "online_retail explainable_boosting\n",
      "count    4.000000\n",
      "mean     1.576375\n",
      "std      0.657125\n",
      "min      0.978635\n",
      "25%      1.053705\n",
      "50%      1.495004\n",
      "75%      2.017674\n",
      "max      2.336858\n",
      "dtype: float64\n"
     ]
    },
    {
     "name": "stderr",
     "output_type": "stream",
     "text": [
      "  0%|                                                                                                                                           | 0/1 [00:00<?, ?it/s]\n"
     ]
    },
    {
     "name": "stdout",
     "output_type": "stream",
     "text": [
      "0\n",
      "livestock_meat_import xgboost\n",
      "count      4.000000\n",
      "mean     118.080270\n",
      "std       58.211674\n",
      "min       65.226981\n",
      "25%       73.839977\n",
      "50%      108.592260\n",
      "75%      152.832553\n",
      "max      189.909579\n",
      "dtype: float64\n"
     ]
    },
    {
     "name": "stderr",
     "output_type": "stream",
     "text": [
      "100%|█████████████████████████████████████████████████████████████████████████████████████████████████████████████████████████████████| 1/1 [00:00<00:00, 2777.68it/s]\n"
     ]
    },
    {
     "name": "stdout",
     "output_type": "stream",
     "text": [
      "None\n",
      "future_sales xgboost\n",
      "count    4.000000\n",
      "mean     0.114596\n",
      "std      0.120316\n",
      "min      0.010520\n",
      "25%      0.010767\n",
      "50%      0.109235\n",
      "75%      0.213064\n",
      "max      0.229396\n",
      "dtype: float64\n"
     ]
    },
    {
     "name": "stderr",
     "output_type": "stream",
     "text": [
      "0it [00:00, ?it/s]\n"
     ]
    },
    {
     "name": "stdout",
     "output_type": "stream",
     "text": [
      "None\n",
      "product_demand xgboost\n",
      "count    4.000000e+00\n",
      "mean     1.294122e+17\n",
      "std      8.266692e+16\n",
      "min      4.974976e+16\n",
      "25%      6.442813e+16\n",
      "50%      1.244381e+17\n",
      "75%      1.894222e+17\n",
      "max      2.190228e+17\n",
      "dtype: float64\n"
     ]
    },
    {
     "name": "stderr",
     "output_type": "stream",
     "text": [
      "100%|███████████████████████████████████████████████████████████████████████████████████████████████████████████████████████| 169274/169274 [00:36<00:00, 4676.06it/s]\n"
     ]
    },
    {
     "name": "stdout",
     "output_type": "stream",
     "text": [
      "None\n",
      "online_retail_2 xgboost\n",
      "count    4.000000\n",
      "mean     1.748705\n",
      "std      0.954953\n",
      "min      0.962627\n",
      "25%      0.979509\n",
      "50%      1.549958\n",
      "75%      2.319154\n",
      "max      2.932275\n",
      "dtype: float64\n"
     ]
    },
    {
     "name": "stderr",
     "output_type": "stream",
     "text": [
      "  0%|                                                                                                                                           | 0/1 [00:00<?, ?it/s]\n"
     ]
    },
    {
     "name": "stdout",
     "output_type": "stream",
     "text": [
      "0\n",
      "online_retail xgboost\n",
      "count    4.000000\n",
      "mean     1.437720\n",
      "std      1.302017\n",
      "min      0.323602\n",
      "25%      0.368346\n",
      "50%      1.234336\n",
      "75%      2.303710\n",
      "max      2.958607\n",
      "dtype: float64\n"
     ]
    },
    {
     "name": "stderr",
     "output_type": "stream",
     "text": [
      "100%|█████████████████████████████████████████████████████████████████████████████████████████████████████████████████████████████████| 1/1 [00:00<00:00, 2832.08it/s]\n"
     ]
    },
    {
     "name": "stdout",
     "output_type": "stream",
     "text": [
      "None\n",
      "=====================\n",
      "['train_rmse', 'test_rmse', 100]\n",
      "{'mae': {'tabnet': {'livestock_meat_import': None, 'future_sales': None, 'product_demand': None, 'online_retail_2': None, 'online_retail': 11}, 'ssl+tabnet': {'livestock_meat_import': None, 'future_sales': None, 'product_demand': None, 'online_retail_2': None, 'online_retail': None}, 'explainable_boosting': {'livestock_meat_import': None, 'future_sales': None, 'product_demand': None, 'online_retail_2': None, 'online_retail': None}, 'xgboost': {'livestock_meat_import': None, 'future_sales': None, 'product_demand': None, 'online_retail_2': None, 'online_retail': None}}, 'mse': {'tabnet': {'livestock_meat_import': None, 'future_sales': None, 'product_demand': None, 'online_retail_2': None, 'online_retail': None}, 'ssl+tabnet': {'livestock_meat_import': None, 'future_sales': None, 'product_demand': None, 'online_retail_2': None, 'online_retail': None}, 'explainable_boosting': {'livestock_meat_import': None, 'future_sales': None, 'product_demand': None, 'online_retail_2': None, 'online_retail': None}, 'xgboost': {'livestock_meat_import': None, 'future_sales': None, 'product_demand': None, 'online_retail_2': None, 'online_retail': None}}, 'mape': {'tabnet': {'livestock_meat_import': None, 'future_sales': None, 'product_demand': None, 'online_retail_2': None, 'online_retail': None}, 'ssl+tabnet': {'livestock_meat_import': None, 'future_sales': None, 'product_demand': None, 'online_retail_2': None, 'online_retail': None}, 'explainable_boosting': {'livestock_meat_import': None, 'future_sales': None, 'product_demand': None, 'online_retail_2': None, 'online_retail': 0}, 'xgboost': {'livestock_meat_import': None, 'future_sales': None, 'product_demand': None, 'online_retail_2': 0, 'online_retail': None}}, 'train_rmse': {}}\n",
      "livestock_meat_import tabnet\n",
      "count    4.000000e+00\n",
      "mean     4.227274e+06\n",
      "std      2.838834e+06\n",
      "min      1.491583e+06\n",
      "25%      2.084195e+06\n",
      "50%      3.930996e+06\n",
      "75%      6.074075e+06\n",
      "max      7.555522e+06\n",
      "dtype: float64\n"
     ]
    },
    {
     "name": "stderr",
     "output_type": "stream",
     "text": [
      "100%|█████████████████████████████████████████████████████████████████████████████████████████████████████████████████████████| 60640/60640 [00:12<00:00, 4684.82it/s]\n"
     ]
    },
    {
     "name": "stdout",
     "output_type": "stream",
     "text": [
      "None\n",
      "future_sales tabnet\n",
      "count    4.000000\n",
      "mean     1.996223\n",
      "std      1.624179\n",
      "min      0.749074\n",
      "25%      0.969453\n",
      "50%      1.454389\n",
      "75%      2.481158\n",
      "max      4.327038\n",
      "dtype: float64\n"
     ]
    },
    {
     "name": "stderr",
     "output_type": "stream",
     "text": [
      "100%|█████████████████████████████████████████████████████████████████████████████████████████████████████████████████████████████████| 1/1 [00:00<00:00, 3377.06it/s]\n"
     ]
    },
    {
     "name": "stdout",
     "output_type": "stream",
     "text": [
      "None\n",
      "product_demand tabnet\n",
      "count        4.000000\n",
      "mean     18962.691629\n",
      "std      10380.850990\n",
      "min       9685.762281\n",
      "25%      10138.027440\n",
      "50%      18783.336302\n",
      "75%      27608.000491\n",
      "max      28598.331631\n",
      "dtype: float64\n"
     ]
    },
    {
     "name": "stderr",
     "output_type": "stream",
     "text": [
      "100%|█████████████████████████████████████████████████████████████████████████████████████████████████████████████████████████████| 190/190 [00:00<00:00, 4314.08it/s]\n"
     ]
    },
    {
     "name": "stdout",
     "output_type": "stream",
     "text": [
      "None\n",
      "online_retail_2 tabnet\n",
      "count      4.000000\n",
      "mean     197.720510\n",
      "std       72.036121\n",
      "min      125.551054\n",
      "25%      147.773879\n",
      "50%      189.433408\n",
      "75%      239.380040\n",
      "max      286.464171\n",
      "dtype: float64\n"
     ]
    },
    {
     "name": "stderr",
     "output_type": "stream",
     "text": [
      "100%|█████████████████████████████████████████████████████████████████████████████████████████████████████████████████████████████████| 2/2 [00:00<00:00, 3697.05it/s]\n"
     ]
    },
    {
     "name": "stdout",
     "output_type": "stream",
     "text": [
      "None\n",
      "online_retail tabnet\n",
      "count      4.000000\n",
      "mean     281.727045\n",
      "std      119.176919\n",
      "min      169.619649\n",
      "25%      185.114943\n",
      "50%      275.928599\n",
      "75%      372.540701\n",
      "max      405.431332\n",
      "dtype: float64\n"
     ]
    },
    {
     "name": "stderr",
     "output_type": "stream",
     "text": [
      "100%|█████████████████████████████████████████████████████████████████████████████████████████████████████████████████████████████████| 3/3 [00:00<00:00, 3862.16it/s]\n"
     ]
    },
    {
     "name": "stdout",
     "output_type": "stream",
     "text": [
      "None\n",
      "livestock_meat_import ssl+tabnet\n",
      "count    4.000000e+00\n",
      "mean     5.099239e+06\n",
      "std      3.144476e+06\n",
      "min      2.304418e+06\n",
      "25%      2.415582e+06\n",
      "50%      5.062868e+06\n",
      "75%      7.746525e+06\n",
      "max      7.966800e+06\n",
      "dtype: float64\n"
     ]
    },
    {
     "name": "stderr",
     "output_type": "stream",
     "text": [
      "100%|█████████████████████████████████████████████████████████████████████████████████████████████████████████████████████████| 56624/56624 [00:12<00:00, 4640.36it/s]\n"
     ]
    },
    {
     "name": "stdout",
     "output_type": "stream",
     "text": [
      "None\n",
      "future_sales ssl+tabnet\n",
      "count    4.000000\n",
      "mean     2.307319\n",
      "std      1.397565\n",
      "min      1.177387\n",
      "25%      1.612783\n",
      "50%      1.853401\n",
      "75%      2.547937\n",
      "max      4.345088\n",
      "dtype: float64\n"
     ]
    },
    {
     "name": "stderr",
     "output_type": "stream",
     "text": [
      "100%|█████████████████████████████████████████████████████████████████████████████████████████████████████████████████████████████████| 1/1 [00:00<00:00, 3876.44it/s]\n"
     ]
    },
    {
     "name": "stdout",
     "output_type": "stream",
     "text": [
      "None\n",
      "product_demand ssl+tabnet\n",
      "count        4.000000\n",
      "mean     17557.786624\n",
      "std      12799.719517\n",
      "min       6200.823925\n",
      "25%       6642.840164\n",
      "50%      17227.085946\n",
      "75%      28142.032406\n",
      "max      29576.150679\n",
      "dtype: float64\n"
     ]
    },
    {
     "name": "stderr",
     "output_type": "stream",
     "text": [
      "100%|█████████████████████████████████████████████████████████████████████████████████████████████████████████████████████████████| 234/234 [00:00<00:00, 4166.16it/s]\n"
     ]
    },
    {
     "name": "stdout",
     "output_type": "stream",
     "text": [
      "None\n",
      "online_retail_2 ssl+tabnet\n",
      "count      4.000000\n",
      "mean     210.262424\n",
      "std       74.269211\n",
      "min      138.540323\n",
      "25%      151.014837\n",
      "50%      208.014905\n",
      "75%      267.262492\n",
      "max      286.479564\n",
      "dtype: float64\n"
     ]
    },
    {
     "name": "stderr",
     "output_type": "stream",
     "text": [
      "100%|█████████████████████████████████████████████████████████████████████████████████████████████████████████████████████████████████| 2/2 [00:00<00:00, 3703.58it/s]\n"
     ]
    },
    {
     "name": "stdout",
     "output_type": "stream",
     "text": [
      "None\n",
      "online_retail ssl+tabnet\n",
      "count      4.000000\n",
      "mean     254.328863\n",
      "std      117.790336\n",
      "min      137.026988\n",
      "25%      176.885094\n",
      "50%      237.440508\n",
      "75%      314.884277\n",
      "max      405.407447\n",
      "dtype: float64\n"
     ]
    },
    {
     "name": "stderr",
     "output_type": "stream",
     "text": [
      "100%|█████████████████████████████████████████████████████████████████████████████████████████████████████████████████████████████████| 3/3 [00:00<00:00, 3318.28it/s]\n"
     ]
    },
    {
     "name": "stdout",
     "output_type": "stream",
     "text": [
      "None\n",
      "livestock_meat_import explainable_boosting\n",
      "count    4.000000e+00\n",
      "mean     2.060028e+06\n",
      "std      2.076720e+06\n",
      "min      1.558469e+05\n",
      "25%      7.579553e+05\n",
      "50%      1.591523e+06\n",
      "75%      2.893596e+06\n",
      "max      4.901218e+06\n",
      "dtype: float64\n"
     ]
    },
    {
     "name": "stderr",
     "output_type": "stream",
     "text": [
      "100%|█████████████████████████████████████████████████████████████████████████████████████████████████████████████████████████| 47454/47454 [00:10<00:00, 4678.07it/s]\n"
     ]
    },
    {
     "name": "stdout",
     "output_type": "stream",
     "text": [
      "None\n",
      "future_sales explainable_boosting\n",
      "count    4.000000\n",
      "mean     2.414034\n",
      "std      1.628513\n",
      "min      0.514707\n",
      "25%      1.480835\n",
      "50%      2.415152\n",
      "75%      3.348351\n",
      "max      4.311127\n",
      "dtype: float64\n"
     ]
    },
    {
     "name": "stderr",
     "output_type": "stream",
     "text": [
      "100%|█████████████████████████████████████████████████████████████████████████████████████████████████████████████████████████████████| 1/1 [00:00<00:00, 3236.35it/s]\n"
     ]
    },
    {
     "name": "stdout",
     "output_type": "stream",
     "text": [
      "None\n",
      "product_demand explainable_boosting\n",
      "count        4.000000\n",
      "mean     18918.947203\n",
      "std       9535.592271\n",
      "min      10019.980317\n",
      "25%      11030.916952\n",
      "50%      18857.331509\n",
      "75%      26745.361759\n",
      "max      27941.145476\n",
      "dtype: float64\n"
     ]
    },
    {
     "name": "stderr",
     "output_type": "stream",
     "text": [
      "100%|█████████████████████████████████████████████████████████████████████████████████████████████████████████████████████████████| 180/180 [00:00<00:00, 4215.26it/s]\n"
     ]
    },
    {
     "name": "stdout",
     "output_type": "stream",
     "text": [
      "None\n",
      "online_retail_2 explainable_boosting\n",
      "count      4.000000\n",
      "mean     202.555026\n",
      "std       81.151776\n",
      "min      118.301670\n",
      "25%      141.918374\n",
      "50%      202.623536\n",
      "75%      263.260188\n",
      "max      286.671364\n",
      "dtype: float64\n"
     ]
    },
    {
     "name": "stderr",
     "output_type": "stream",
     "text": [
      "100%|█████████████████████████████████████████████████████████████████████████████████████████████████████████████████████████████████| 2/2 [00:00<00:00, 2634.61it/s]\n"
     ]
    },
    {
     "name": "stdout",
     "output_type": "stream",
     "text": [
      "None\n",
      "online_retail explainable_boosting\n",
      "count      4.000000\n",
      "mean     292.657942\n",
      "std      124.431422\n",
      "min      181.188386\n",
      "25%      186.885190\n",
      "50%      292.109421\n",
      "75%      397.882173\n",
      "max      405.224541\n",
      "dtype: float64\n"
     ]
    },
    {
     "name": "stderr",
     "output_type": "stream",
     "text": [
      "100%|█████████████████████████████████████████████████████████████████████████████████████████████████████████████████████████████████| 3/3 [00:00<00:00, 2790.00it/s]\n"
     ]
    },
    {
     "name": "stdout",
     "output_type": "stream",
     "text": [
      "None\n",
      "livestock_meat_import xgboost\n",
      "count    4.000000e+00\n",
      "mean     1.265725e+06\n",
      "std      1.089633e+06\n",
      "min      3.853649e+05\n",
      "25%      4.462645e+05\n",
      "50%      9.823372e+05\n",
      "75%      1.801798e+06\n",
      "max      2.712861e+06\n",
      "dtype: float64\n"
     ]
    },
    {
     "name": "stderr",
     "output_type": "stream",
     "text": [
      "100%|█████████████████████████████████████████████████████████████████████████████████████████████████████████████████████████| 23275/23275 [00:04<00:00, 4809.36it/s]\n"
     ]
    },
    {
     "name": "stdout",
     "output_type": "stream",
     "text": [
      "None\n",
      "future_sales xgboost\n",
      "count    4.000000\n",
      "mean     2.002151\n",
      "std      1.567072\n",
      "min      0.098100\n",
      "25%      1.262163\n",
      "50%      2.023934\n",
      "75%      2.763923\n",
      "max      3.862637\n",
      "dtype: float64\n"
     ]
    },
    {
     "name": "stderr",
     "output_type": "stream",
     "text": [
      "100%|█████████████████████████████████████████████████████████████████████████████████████████████████████████████████████████████████| 1/1 [00:00<00:00, 3320.91it/s]\n"
     ]
    },
    {
     "name": "stdout",
     "output_type": "stream",
     "text": [
      "None\n",
      "product_demand xgboost\n",
      "count        4.000000\n",
      "mean     18935.146112\n",
      "std       8235.923448\n",
      "min      10591.545867\n",
      "25%      12518.110599\n",
      "50%      19249.176806\n",
      "75%      25666.212318\n",
      "max      26650.684969\n",
      "dtype: float64\n"
     ]
    },
    {
     "name": "stderr",
     "output_type": "stream",
     "text": [
      "100%|█████████████████████████████████████████████████████████████████████████████████████████████████████████████████████████████| 161/161 [00:00<00:00, 4287.84it/s]\n"
     ]
    },
    {
     "name": "stdout",
     "output_type": "stream",
     "text": [
      "None\n",
      "online_retail_2 xgboost\n",
      "count      4.000000\n",
      "mean     199.743341\n",
      "std      100.624664\n",
      "min       89.109717\n",
      "25%      127.159322\n",
      "50%      211.486841\n",
      "75%      284.070860\n",
      "max      286.889966\n",
      "dtype: float64\n"
     ]
    },
    {
     "name": "stderr",
     "output_type": "stream",
     "text": [
      "100%|█████████████████████████████████████████████████████████████████████████████████████████████████████████████████████████████████| 2/2 [00:00<00:00, 4321.80it/s]\n"
     ]
    },
    {
     "name": "stdout",
     "output_type": "stream",
     "text": [
      "None\n",
      "online_retail xgboost\n",
      "count      4.000000\n",
      "mean     223.947523\n",
      "std      166.838523\n",
      "min       11.898670\n",
      "25%      144.862932\n",
      "50%      238.955984\n",
      "75%      318.040575\n",
      "max      405.979454\n",
      "dtype: float64\n"
     ]
    },
    {
     "name": "stderr",
     "output_type": "stream",
     "text": [
      "100%|█████████████████████████████████████████████████████████████████████████████████████████████████████████████████████████████████| 4/4 [00:00<00:00, 3590.25it/s]"
     ]
    },
    {
     "name": "stdout",
     "output_type": "stream",
     "text": [
      "None\n"
     ]
    },
    {
     "name": "stderr",
     "output_type": "stream",
     "text": [
      "\n"
     ]
    },
    {
     "data": {
      "text/plain": [
       "{'mae': {'tabnet': {'livestock_meat_import': None,\n",
       "   'future_sales': None,\n",
       "   'product_demand': None,\n",
       "   'online_retail_2': None,\n",
       "   'online_retail': 11},\n",
       "  'ssl+tabnet': {'livestock_meat_import': None,\n",
       "   'future_sales': None,\n",
       "   'product_demand': None,\n",
       "   'online_retail_2': None,\n",
       "   'online_retail': None},\n",
       "  'explainable_boosting': {'livestock_meat_import': None,\n",
       "   'future_sales': None,\n",
       "   'product_demand': None,\n",
       "   'online_retail_2': None,\n",
       "   'online_retail': None},\n",
       "  'xgboost': {'livestock_meat_import': None,\n",
       "   'future_sales': None,\n",
       "   'product_demand': None,\n",
       "   'online_retail_2': None,\n",
       "   'online_retail': None}},\n",
       " 'mse': {'tabnet': {'livestock_meat_import': None,\n",
       "   'future_sales': None,\n",
       "   'product_demand': None,\n",
       "   'online_retail_2': None,\n",
       "   'online_retail': None},\n",
       "  'ssl+tabnet': {'livestock_meat_import': None,\n",
       "   'future_sales': None,\n",
       "   'product_demand': None,\n",
       "   'online_retail_2': None,\n",
       "   'online_retail': None},\n",
       "  'explainable_boosting': {'livestock_meat_import': None,\n",
       "   'future_sales': None,\n",
       "   'product_demand': None,\n",
       "   'online_retail_2': None,\n",
       "   'online_retail': None},\n",
       "  'xgboost': {'livestock_meat_import': None,\n",
       "   'future_sales': None,\n",
       "   'product_demand': None,\n",
       "   'online_retail_2': None,\n",
       "   'online_retail': None}},\n",
       " 'mape': {'tabnet': {'livestock_meat_import': None,\n",
       "   'future_sales': None,\n",
       "   'product_demand': None,\n",
       "   'online_retail_2': None,\n",
       "   'online_retail': None},\n",
       "  'ssl+tabnet': {'livestock_meat_import': None,\n",
       "   'future_sales': None,\n",
       "   'product_demand': None,\n",
       "   'online_retail_2': None,\n",
       "   'online_retail': None},\n",
       "  'explainable_boosting': {'livestock_meat_import': None,\n",
       "   'future_sales': None,\n",
       "   'product_demand': None,\n",
       "   'online_retail_2': None,\n",
       "   'online_retail': 0},\n",
       "  'xgboost': {'livestock_meat_import': None,\n",
       "   'future_sales': None,\n",
       "   'product_demand': None,\n",
       "   'online_retail_2': 0,\n",
       "   'online_retail': None}},\n",
       " 'train_rmse': {'tabnet': {'livestock_meat_import': None,\n",
       "   'future_sales': None,\n",
       "   'product_demand': None,\n",
       "   'online_retail_2': None,\n",
       "   'online_retail': None},\n",
       "  'ssl+tabnet': {'livestock_meat_import': None,\n",
       "   'future_sales': None,\n",
       "   'product_demand': None,\n",
       "   'online_retail_2': None,\n",
       "   'online_retail': None},\n",
       "  'explainable_boosting': {'livestock_meat_import': None,\n",
       "   'future_sales': None,\n",
       "   'product_demand': None,\n",
       "   'online_retail_2': None,\n",
       "   'online_retail': None},\n",
       "  'xgboost': {'livestock_meat_import': None,\n",
       "   'future_sales': None,\n",
       "   'product_demand': None,\n",
       "   'online_retail_2': None,\n",
       "   'online_retail': None}}}"
      ]
     },
     "execution_count": 110,
     "metadata": {},
     "output_type": "execute_result"
    }
   ],
   "source": [
    "# Which dataset+model causes the highest average error\n",
    "# Which dataset+model causes the lowest average error\n",
    "\n",
    "from tqdm import tqdm\n",
    "metrics_pair = [\n",
    "    [\"test_mae\", \"train_mae\", 100], [\"test_mse\", \"train_mse\", 1000000000], [\"test_mape\", \"train_mape\", 1000000000000], [\"train_rmse\", \"test_rmse\", 100]\n",
    "]\n",
    "aver = {}\n",
    "for metrcs in metrics_pair:\n",
    "    print(\"=====================\")\n",
    "    a, b, step = metrcs\n",
    "    print(metrcs)\n",
    "    metric_name = a.replace('test_', '')\n",
    "    aver[metric_name] = {}\n",
    "    print(aver)\n",
    "    for model in ['tabnet', 'ssl+tabnet', 'explainable_boosting', 'xgboost']:\n",
    "        aver[metric_name][model] = {}\n",
    "        for dataset in df.dataset.unique():\n",
    "            print(dataset, model)\n",
    "            sel = df[(df[\"model\"] == model) & (df['dataset'] == dataset)]\n",
    "            ready = pd.concat([sel[a], sel[b]], axis=0)\n",
    "            print(ready.describe())\n",
    "            range_1 = None\n",
    "            for u in tqdm(range(int(ready.min()), int(ready.max()), step)):\n",
    "                flag = p_value_stat(ready, mu=u)\n",
    "                if flag and range_1 is None:\n",
    "                    range_1 = u\n",
    "                    break\n",
    "                last_u = u\n",
    "            aver[metric_name][model][dataset] = range_1\n",
    "            print(range_1)\n",
    "aver"
   ]
  },
  {
   "cell_type": "code",
   "execution_count": null,
   "id": "0e913195-bcaf-488b-9923-65325c68d8b7",
   "metadata": {},
   "outputs": [],
   "source": []
  },
  {
   "cell_type": "code",
   "execution_count": null,
   "id": "0041363f-473a-47b3-80f6-78be135c9ce3",
   "metadata": {},
   "outputs": [],
   "source": []
  },
  {
   "cell_type": "code",
   "execution_count": null,
   "id": "2afcd723-f700-4b5f-a93e-2ffe80450fb9",
   "metadata": {},
   "outputs": [],
   "source": []
  },
  {
   "cell_type": "code",
   "execution_count": null,
   "id": "4a187476-96b1-446c-8b31-4cb77ce08d23",
   "metadata": {},
   "outputs": [],
   "source": []
  },
  {
   "cell_type": "code",
   "execution_count": null,
   "id": "ae60cd8a-0ad7-4c7d-8f28-ff24dba8baa1",
   "metadata": {},
   "outputs": [],
   "source": []
  },
  {
   "cell_type": "markdown",
   "id": "da0be183-68c5-4f4e-86c6-a8155d6995e0",
   "metadata": {},
   "source": [
    "```\n",
    "# Which model causes the highest average error\n",
    "# Which model causes the lowest average error\n",
    "\n",
    "{'mae': {'tabnet': 400600,\n",
    "  'ssl+tabnet': 441700,\n",
    "  'explainable_boosting': 341200,\n",
    "  'xgboost': 168400},\n",
    " 'mse': {'tabnet': 11405000000000,\n",
    "  'ssl+tabnet': 15450000000001,\n",
    "  'explainable_boosting': 4032000000000,\n",
    "  'xgboost': 1290000000000},\n",
    " 'mape': {'tabnet': 0,\n",
    "  'ssl+tabnet': 81935000000000000,\n",
    "  'explainable_boosting': 63072000000000000,\n",
    "  'xgboost': 55109000000000000},\n",
    " 'train_rmse': {'tabnet': 1817100,\n",
    "  'ssl+tabnet': 2163501,\n",
    "  'explainable_boosting': 968200,\n",
    "  'xgboost': 572900}}\n",
    "```\n",
    "\n",
    "```\n",
    "# Which dataset experienced the highest average error\n",
    "# Which dataset experienced the lowest average error\n",
    "\n",
    "{'mae': {'livestock_meat_import': 60558,\n",
    "  'future_sales': None,\n",
    "  'product_demand': 618,\n",
    "  'online_retail_2': 4,\n",
    "  'online_retail': 2},\n",
    " 'mse': {'livestock_meat_import': 24288270905,\n",
    "  'future_sales': 0,\n",
    "  'product_demand': 38450217,\n",
    "  'online_retail_2': 7940,\n",
    "  'online_retail': 141},\n",
    " 'mape': {'livestock_meat_import': 65,\n",
    "  'future_sales': None,\n",
    "  'product_demand': 32620537937419800,\n",
    "  'online_retail_2': 0,\n",
    "  'online_retail': 0},\n",
    " 'train_rmse': {'livestock_meat_import': 155846,\n",
    "  'future_sales': 0,\n",
    "  'product_demand': 6200,\n",
    "  'online_retail_2': 89,\n",
    "  'online_retail': 11}}\n",
    "```\n",
    "\n",
    "```\n",
    "# Which dataset+model causes the highest average error\n",
    "# Which dataset+model causes the lowest average error\n",
    "\n",
    "{'mae': {'tabnet': {'livestock_meat_import': None,\n",
    "   'future_sales': None,\n",
    "   'product_demand': None,\n",
    "   'online_retail_2': None,\n",
    "   'online_retail': 11},\n",
    "  'ssl+tabnet': {'livestock_meat_import': None,\n",
    "   'future_sales': None,\n",
    "   'product_demand': None,\n",
    "   'online_retail_2': None,\n",
    "   'online_retail': None},\n",
    "  'explainable_boosting': {'livestock_meat_import': None,\n",
    "   'future_sales': None,\n",
    "   'product_demand': None,\n",
    "   'online_retail_2': None,\n",
    "   'online_retail': None},\n",
    "  'xgboost': {'livestock_meat_import': None,\n",
    "   'future_sales': None,\n",
    "   'product_demand': None,\n",
    "   'online_retail_2': None,\n",
    "   'online_retail': None}},\n",
    " 'mse': {'tabnet': {'livestock_meat_import': None,\n",
    "   'future_sales': None,\n",
    "   'product_demand': None,\n",
    "   'online_retail_2': None,\n",
    "   'online_retail': None},\n",
    "  'ssl+tabnet': {'livestock_meat_import': None,\n",
    "   'future_sales': None,\n",
    "   'product_demand': None,\n",
    "   'online_retail_2': None,\n",
    "   'online_retail': None},\n",
    "  'explainable_boosting': {'livestock_meat_import': None,\n",
    "   'future_sales': None,\n",
    "   'product_demand': None,\n",
    "   'online_retail_2': None,\n",
    "   'online_retail': None},\n",
    "  'xgboost': {'livestock_meat_import': None,\n",
    "   'future_sales': None,\n",
    "   'product_demand': None,\n",
    "   'online_retail_2': None,\n",
    "   'online_retail': None}},\n",
    " 'mape': {'tabnet': {'livestock_meat_import': None,\n",
    "   'future_sales': None,\n",
    "   'product_demand': None,\n",
    "   'online_retail_2': None,\n",
    "   'online_retail': None},\n",
    "  'ssl+tabnet': {'livestock_meat_import': None,\n",
    "   'future_sales': None,\n",
    "   'product_demand': None,\n",
    "   'online_retail_2': None,\n",
    "   'online_retail': None},\n",
    "  'explainable_boosting': {'livestock_meat_import': None,\n",
    "   'future_sales': None,\n",
    "   'product_demand': None,\n",
    "   'online_retail_2': None,\n",
    "   'online_retail': 0},\n",
    "  'xgboost': {'livestock_meat_import': None,\n",
    "   'future_sales': None,\n",
    "   'product_demand': None,\n",
    "   'online_retail_2': 0,\n",
    "   'online_retail': None}},\n",
    " 'train_rmse': {'tabnet': {'livestock_meat_import': None,\n",
    "   'future_sales': None,\n",
    "   'product_demand': None,\n",
    "   'online_retail_2': None,\n",
    "   'online_retail': None},\n",
    "  'ssl+tabnet': {'livestock_meat_import': None,\n",
    "   'future_sales': None,\n",
    "   'product_demand': None,\n",
    "   'online_retail_2': None,\n",
    "   'online_retail': None},\n",
    "  'explainable_boosting': {'livestock_meat_import': None,\n",
    "   'future_sales': None,\n",
    "   'product_demand': None,\n",
    "   'online_retail_2': None,\n",
    "   'online_retail': None},\n",
    "  'xgboost': {'livestock_meat_import': None,\n",
    "   'future_sales': None,\n",
    "   'product_demand': None,\n",
    "   'online_retail_2': None,\n",
    "   'online_retail': None}}}\n",
    "```"
   ]
  },
  {
   "cell_type": "code",
   "execution_count": 53,
   "id": "c7f5389e-ea10-42dc-8be3-c5c09a96aa6d",
   "metadata": {},
   "outputs": [],
   "source": []
  },
  {
   "cell_type": "code",
   "execution_count": 78,
   "id": "76ed2c26-478b-45ea-8a3c-ce1cb8eecca8",
   "metadata": {},
   "outputs": [
    {
     "data": {
      "text/html": [
       "<div>\n",
       "<style scoped>\n",
       "    .dataframe tbody tr th:only-of-type {\n",
       "        vertical-align: middle;\n",
       "    }\n",
       "\n",
       "    .dataframe tbody tr th {\n",
       "        vertical-align: top;\n",
       "    }\n",
       "\n",
       "    .dataframe thead th {\n",
       "        text-align: right;\n",
       "    }\n",
       "</style>\n",
       "<table border=\"1\" class=\"dataframe\">\n",
       "  <thead>\n",
       "    <tr style=\"text-align: right;\">\n",
       "      <th></th>\n",
       "      <th>index</th>\n",
       "      <th>tabnet</th>\n",
       "      <th>ssl+tabnet</th>\n",
       "      <th>explainable_boosting</th>\n",
       "      <th>xgboost</th>\n",
       "    </tr>\n",
       "  </thead>\n",
       "  <tbody>\n",
       "    <tr>\n",
       "      <th>0</th>\n",
       "      <td>mae</td>\n",
       "      <td>400600</td>\n",
       "      <td>441700</td>\n",
       "      <td>341200</td>\n",
       "      <td>168400</td>\n",
       "    </tr>\n",
       "    <tr>\n",
       "      <th>1</th>\n",
       "      <td>mse</td>\n",
       "      <td>11405000000000</td>\n",
       "      <td>15450000000001</td>\n",
       "      <td>4032000000000</td>\n",
       "      <td>1290000000000</td>\n",
       "    </tr>\n",
       "    <tr>\n",
       "      <th>2</th>\n",
       "      <td>mape</td>\n",
       "      <td>0</td>\n",
       "      <td>81935000000000000</td>\n",
       "      <td>63072000000000000</td>\n",
       "      <td>55109000000000000</td>\n",
       "    </tr>\n",
       "    <tr>\n",
       "      <th>3</th>\n",
       "      <td>rmse</td>\n",
       "      <td>1817100</td>\n",
       "      <td>2163501</td>\n",
       "      <td>968200</td>\n",
       "      <td>572900</td>\n",
       "    </tr>\n",
       "  </tbody>\n",
       "</table>\n",
       "</div>"
      ],
      "text/plain": [
       "  index          tabnet         ssl+tabnet  explainable_boosting  \\\n",
       "0   mae          400600             441700                341200   \n",
       "1   mse  11405000000000     15450000000001         4032000000000   \n",
       "2  mape               0  81935000000000000     63072000000000000   \n",
       "3  rmse         1817100            2163501                968200   \n",
       "\n",
       "             xgboost  \n",
       "0             168400  \n",
       "1      1290000000000  \n",
       "2  55109000000000000  \n",
       "3             572900  "
      ]
     },
     "execution_count": 78,
     "metadata": {},
     "output_type": "execute_result"
    }
   ],
   "source": [
    "# Which model causes the highest average error\n",
    "# Which model causes the lowest average error\n",
    "\n",
    "d = {'mae': {'tabnet': 400600,\n",
    "  'ssl+tabnet': 441700,\n",
    "  'explainable_boosting': 341200,\n",
    "  'xgboost': 168400},\n",
    " 'mse': {'tabnet': 11405000000000,\n",
    "  'ssl+tabnet': 15450000000001,\n",
    "  'explainable_boosting': 4032000000000,\n",
    "  'xgboost': 1290000000000},\n",
    " 'mape': {'tabnet': 0,\n",
    "  'ssl+tabnet': 81935000000000000,\n",
    "  'explainable_boosting': 63072000000000000,\n",
    "  'xgboost': 55109000000000000},\n",
    " 'rmse': {'tabnet': 1817100,\n",
    "  'ssl+tabnet': 2163501,\n",
    "  'explainable_boosting': 968200,\n",
    "  'xgboost': 572900}}\n",
    "xdf = pd.DataFrame(d).T.reset_index()\n",
    "xdf"
   ]
  },
  {
   "cell_type": "code",
   "execution_count": 79,
   "id": "c521ac16-4acf-4cef-a4be-fef369aa3d78",
   "metadata": {},
   "outputs": [
    {
     "data": {
      "image/png": "[encoded data removed]",
      "text/plain": [
       "<Figure size 2000x600 with 4 Axes>"
      ]
     },
     "metadata": {},
     "output_type": "display_data"
    }
   ],
   "source": [
    "plt.figure(figsize=(20, 6))\n",
    "for idx in range(4):\n",
    "    ax=plt.subplot(1,4, idx+1)\n",
    "    ax.set_xlabel(xdf[\"index\"][idx])\n",
    "    if idx==1:\n",
    "        ax.set_title(\"Model Wise Average Error (Hypothesis Testing with p-value method)\\n\")\n",
    "    xdf.iloc[[idx],:].plot.bar(ax=ax, legend=idx==3, xticks=[], cmap=\"Set2\")\n",
    "plt.savefig(\"model-based-hypothesis-testing.png\")"
   ]
  },
  {
   "cell_type": "code",
   "execution_count": null,
   "id": "014d266a-53bb-475b-b4d4-efa520ff5a99",
   "metadata": {},
   "outputs": [],
   "source": []
  },
  {
   "cell_type": "code",
   "execution_count": null,
   "id": "66bf53a3-094e-4720-ab51-d4d1c836497b",
   "metadata": {},
   "outputs": [],
   "source": []
  },
  {
   "cell_type": "code",
   "execution_count": null,
   "id": "b00c111d-ab22-4167-b1b8-f3adc1ee6bd8",
   "metadata": {},
   "outputs": [],
   "source": []
  },
  {
   "cell_type": "code",
   "execution_count": 80,
   "id": "20d83680-4104-4612-8ca0-24c1304391f8",
   "metadata": {},
   "outputs": [
    {
     "data": {
      "text/html": [
       "<div>\n",
       "<style scoped>\n",
       "    .dataframe tbody tr th:only-of-type {\n",
       "        vertical-align: middle;\n",
       "    }\n",
       "\n",
       "    .dataframe tbody tr th {\n",
       "        vertical-align: top;\n",
       "    }\n",
       "\n",
       "    .dataframe thead th {\n",
       "        text-align: right;\n",
       "    }\n",
       "</style>\n",
       "<table border=\"1\" class=\"dataframe\">\n",
       "  <thead>\n",
       "    <tr style=\"text-align: right;\">\n",
       "      <th></th>\n",
       "      <th>index</th>\n",
       "      <th>livestock_meat_import</th>\n",
       "      <th>future_sales</th>\n",
       "      <th>product_demand</th>\n",
       "      <th>online_retail_2</th>\n",
       "      <th>online_retail</th>\n",
       "    </tr>\n",
       "  </thead>\n",
       "  <tbody>\n",
       "    <tr>\n",
       "      <th>0</th>\n",
       "      <td>mae</td>\n",
       "      <td>6.055800e+04</td>\n",
       "      <td>NaN</td>\n",
       "      <td>6.180000e+02</td>\n",
       "      <td>4.0</td>\n",
       "      <td>2.0</td>\n",
       "    </tr>\n",
       "    <tr>\n",
       "      <th>1</th>\n",
       "      <td>mse</td>\n",
       "      <td>2.428827e+10</td>\n",
       "      <td>0.0</td>\n",
       "      <td>3.845022e+07</td>\n",
       "      <td>7940.0</td>\n",
       "      <td>141.0</td>\n",
       "    </tr>\n",
       "    <tr>\n",
       "      <th>2</th>\n",
       "      <td>mape</td>\n",
       "      <td>6.500000e+01</td>\n",
       "      <td>NaN</td>\n",
       "      <td>3.262054e+16</td>\n",
       "      <td>0.0</td>\n",
       "      <td>0.0</td>\n",
       "    </tr>\n",
       "    <tr>\n",
       "      <th>3</th>\n",
       "      <td>rmse</td>\n",
       "      <td>1.558460e+05</td>\n",
       "      <td>0.0</td>\n",
       "      <td>6.200000e+03</td>\n",
       "      <td>89.0</td>\n",
       "      <td>11.0</td>\n",
       "    </tr>\n",
       "  </tbody>\n",
       "</table>\n",
       "</div>"
      ],
      "text/plain": [
       "  index  livestock_meat_import  future_sales  product_demand  online_retail_2  \\\n",
       "0   mae           6.055800e+04           NaN    6.180000e+02              4.0   \n",
       "1   mse           2.428827e+10           0.0    3.845022e+07           7940.0   \n",
       "2  mape           6.500000e+01           NaN    3.262054e+16              0.0   \n",
       "3  rmse           1.558460e+05           0.0    6.200000e+03             89.0   \n",
       "\n",
       "   online_retail  \n",
       "0            2.0  \n",
       "1          141.0  \n",
       "2            0.0  \n",
       "3           11.0  "
      ]
     },
     "execution_count": 80,
     "metadata": {},
     "output_type": "execute_result"
    }
   ],
   "source": [
    "# Which dataset experienced the highest average error\n",
    "# Which dataset experienced the lowest average error\n",
    "\n",
    "d = {'mae': {'livestock_meat_import': 60558,\n",
    "  'future_sales': None,\n",
    "  'product_demand': 618,\n",
    "  'online_retail_2': 4,\n",
    "  'online_retail': 2},\n",
    " 'mse': {'livestock_meat_import': 24288270905,\n",
    "  'future_sales': 0,\n",
    "  'product_demand': 38450217,\n",
    "  'online_retail_2': 7940,\n",
    "  'online_retail': 141},\n",
    " 'mape': {'livestock_meat_import': 65,\n",
    "  'future_sales': None,\n",
    "  'product_demand': 32620537937419800,\n",
    "  'online_retail_2': 0,\n",
    "  'online_retail': 0},\n",
    " 'rmse': {'livestock_meat_import': 155846,\n",
    "  'future_sales': 0,\n",
    "  'product_demand': 6200,\n",
    "  'online_retail_2': 89,\n",
    "  'online_retail': 11}}\n",
    "xdf = pd.DataFrame(d).T.reset_index()\n",
    "xdf"
   ]
  },
  {
   "cell_type": "code",
   "execution_count": 81,
   "id": "d6a9dd19-22fa-4bdb-abbd-5429399d1435",
   "metadata": {},
   "outputs": [
    {
     "data": {
      "image/png": "[encoded data removed]",
      "text/plain": [
       "<Figure size 2000x600 with 4 Axes>"
      ]
     },
     "metadata": {},
     "output_type": "display_data"
    }
   ],
   "source": [
    "plt.figure(figsize=(20, 6))\n",
    "for idx in range(4):\n",
    "    ax=plt.subplot(1,4, idx+1)\n",
    "    ax.set_xlabel(xdf[\"index\"][idx])\n",
    "    if idx==1:\n",
    "        ax.set_title(\"Dataset Wise Average Error (Hypothesis Testing with p-value method)\\n\")\n",
    "    xdf.iloc[[idx],:].plot.bar(ax=ax, legend=idx==3, xticks=[], cmap=\"Set2\")\n",
    "plt.savefig(\"dataset-based-hypothesis-testing.png\")"
   ]
  },
  {
   "cell_type": "code",
   "execution_count": null,
   "id": "be095941-ecb2-4afa-b89c-91864bd8fb94",
   "metadata": {},
   "outputs": [],
   "source": []
  },
  {
   "cell_type": "code",
   "execution_count": 20,
   "id": "15e5dca2-c0d0-4f56-8fa1-9dfdc8ba2e2e",
   "metadata": {},
   "outputs": [
    {
     "data": {
      "text/html": [
       "<div>\n",
       "<style scoped>\n",
       "    .dataframe tbody tr th:only-of-type {\n",
       "        vertical-align: middle;\n",
       "    }\n",
       "\n",
       "    .dataframe tbody tr th {\n",
       "        vertical-align: top;\n",
       "    }\n",
       "\n",
       "    .dataframe thead th {\n",
       "        text-align: right;\n",
       "    }\n",
       "</style>\n",
       "<table border=\"1\" class=\"dataframe\">\n",
       "  <thead>\n",
       "    <tr style=\"text-align: right;\">\n",
       "      <th></th>\n",
       "      <th>mae</th>\n",
       "      <th>mse</th>\n",
       "      <th>mape</th>\n",
       "      <th>train_rmse</th>\n",
       "    </tr>\n",
       "  </thead>\n",
       "  <tbody>\n",
       "    <tr>\n",
       "      <th>tabnet</th>\n",
       "      <td>{'livestock_meat_import': None, 'future_sales'...</td>\n",
       "      <td>{'livestock_meat_import': None, 'future_sales'...</td>\n",
       "      <td>{'livestock_meat_import': None, 'future_sales'...</td>\n",
       "      <td>{'livestock_meat_import': None, 'future_sales'...</td>\n",
       "    </tr>\n",
       "    <tr>\n",
       "      <th>ssl+tabnet</th>\n",
       "      <td>{'livestock_meat_import': None, 'future_sales'...</td>\n",
       "      <td>{'livestock_meat_import': None, 'future_sales'...</td>\n",
       "      <td>{'livestock_meat_import': None, 'future_sales'...</td>\n",
       "      <td>{'livestock_meat_import': None, 'future_sales'...</td>\n",
       "    </tr>\n",
       "    <tr>\n",
       "      <th>explainable_boosting</th>\n",
       "      <td>{'livestock_meat_import': None, 'future_sales'...</td>\n",
       "      <td>{'livestock_meat_import': None, 'future_sales'...</td>\n",
       "      <td>{'livestock_meat_import': None, 'future_sales'...</td>\n",
       "      <td>{'livestock_meat_import': None, 'future_sales'...</td>\n",
       "    </tr>\n",
       "    <tr>\n",
       "      <th>xgboost</th>\n",
       "      <td>{'livestock_meat_import': None, 'future_sales'...</td>\n",
       "      <td>{'livestock_meat_import': None, 'future_sales'...</td>\n",
       "      <td>{'livestock_meat_import': None, 'future_sales'...</td>\n",
       "      <td>{'livestock_meat_import': None, 'future_sales'...</td>\n",
       "    </tr>\n",
       "  </tbody>\n",
       "</table>\n",
       "</div>"
      ],
      "text/plain": [
       "                                                                    mae  \\\n",
       "tabnet                {'livestock_meat_import': None, 'future_sales'...   \n",
       "ssl+tabnet            {'livestock_meat_import': None, 'future_sales'...   \n",
       "explainable_boosting  {'livestock_meat_import': None, 'future_sales'...   \n",
       "xgboost               {'livestock_meat_import': None, 'future_sales'...   \n",
       "\n",
       "                                                                    mse  \\\n",
       "tabnet                {'livestock_meat_import': None, 'future_sales'...   \n",
       "ssl+tabnet            {'livestock_meat_import': None, 'future_sales'...   \n",
       "explainable_boosting  {'livestock_meat_import': None, 'future_sales'...   \n",
       "xgboost               {'livestock_meat_import': None, 'future_sales'...   \n",
       "\n",
       "                                                                   mape  \\\n",
       "tabnet                {'livestock_meat_import': None, 'future_sales'...   \n",
       "ssl+tabnet            {'livestock_meat_import': None, 'future_sales'...   \n",
       "explainable_boosting  {'livestock_meat_import': None, 'future_sales'...   \n",
       "xgboost               {'livestock_meat_import': None, 'future_sales'...   \n",
       "\n",
       "                                                             train_rmse  \n",
       "tabnet                {'livestock_meat_import': None, 'future_sales'...  \n",
       "ssl+tabnet            {'livestock_meat_import': None, 'future_sales'...  \n",
       "explainable_boosting  {'livestock_meat_import': None, 'future_sales'...  \n",
       "xgboost               {'livestock_meat_import': None, 'future_sales'...  "
      ]
     },
     "execution_count": 20,
     "metadata": {},
     "output_type": "execute_result"
    }
   ],
   "source": [
    "# Which dataset+model causes the highest average error\n",
    "# Which dataset+model causes the lowest average error\n",
    "\n",
    "d = {'mae': {'tabnet': {'livestock_meat_import': None,\n",
    "   'future_sales': None,\n",
    "   'product_demand': None,\n",
    "   'online_retail_2': None,\n",
    "   'online_retail': 11},\n",
    "  'ssl+tabnet': {'livestock_meat_import': None,\n",
    "   'future_sales': None,\n",
    "   'product_demand': None,\n",
    "   'online_retail_2': None,\n",
    "   'online_retail': None},\n",
    "  'explainable_boosting': {'livestock_meat_import': None,\n",
    "   'future_sales': None,\n",
    "   'product_demand': None,\n",
    "   'online_retail_2': None,\n",
    "   'online_retail': None},\n",
    "  'xgboost': {'livestock_meat_import': None,\n",
    "   'future_sales': None,\n",
    "   'product_demand': None,\n",
    "   'online_retail_2': None,\n",
    "   'online_retail': None}},\n",
    " 'mse': {'tabnet': {'livestock_meat_import': None,\n",
    "   'future_sales': None,\n",
    "   'product_demand': None,\n",
    "   'online_retail_2': None,\n",
    "   'online_retail': None},\n",
    "  'ssl+tabnet': {'livestock_meat_import': None,\n",
    "   'future_sales': None,\n",
    "   'product_demand': None,\n",
    "   'online_retail_2': None,\n",
    "   'online_retail': None},\n",
    "  'explainable_boosting': {'livestock_meat_import': None,\n",
    "   'future_sales': None,\n",
    "   'product_demand': None,\n",
    "   'online_retail_2': None,\n",
    "   'online_retail': None},\n",
    "  'xgboost': {'livestock_meat_import': None,\n",
    "   'future_sales': None,\n",
    "   'product_demand': None,\n",
    "   'online_retail_2': None,\n",
    "   'online_retail': None}},\n",
    " 'mape': {'tabnet': {'livestock_meat_import': None,\n",
    "   'future_sales': None,\n",
    "   'product_demand': None,\n",
    "   'online_retail_2': None,\n",
    "   'online_retail': None},\n",
    "  'ssl+tabnet': {'livestock_meat_import': None,\n",
    "   'future_sales': None,\n",
    "   'product_demand': None,\n",
    "   'online_retail_2': None,\n",
    "   'online_retail': None},\n",
    "  'explainable_boosting': {'livestock_meat_import': None,\n",
    "   'future_sales': None,\n",
    "   'product_demand': None,\n",
    "   'online_retail_2': None,\n",
    "   'online_retail': 0},\n",
    "  'xgboost': {'livestock_meat_import': None,\n",
    "   'future_sales': None,\n",
    "   'product_demand': None,\n",
    "   'online_retail_2': 0,\n",
    "   'online_retail': None}},\n",
    " 'train_rmse': {'tabnet': {'livestock_meat_import': None,\n",
    "   'future_sales': None,\n",
    "   'product_demand': None,\n",
    "   'online_retail_2': None,\n",
    "   'online_retail': None},\n",
    "  'ssl+tabnet': {'livestock_meat_import': None,\n",
    "   'future_sales': None,\n",
    "   'product_demand': None,\n",
    "   'online_retail_2': None,\n",
    "   'online_retail': None},\n",
    "  'explainable_boosting': {'livestock_meat_import': None,\n",
    "   'future_sales': None,\n",
    "   'product_demand': None,\n",
    "   'online_retail_2': None,\n",
    "   'online_retail': None},\n",
    "  'xgboost': {'livestock_meat_import': None,\n",
    "   'future_sales': None,\n",
    "   'product_demand': None,\n",
    "   'online_retail_2': None,\n",
    "   'online_retail': None}}}\n",
    "\n",
    "pd.DataFrame(d)"
   ]
  },
  {
   "cell_type": "markdown",
   "id": "bf800460-52e9-45e9-835e-6dd4e367f23e",
   "metadata": {},
   "source": [
    "# Effect of feature-engg vs normal dataset"
   ]
  },
  {
   "cell_type": "code",
   "execution_count": 31,
   "id": "eaed4cbe-448e-4622-a0eb-5d466a0aab82",
   "metadata": {
    "scrolled": true
   },
   "outputs": [
    {
     "name": "stdout",
     "output_type": "stream",
     "text": [
      "=====================\n",
      "False\n"
     ]
    },
    {
     "name": "stderr",
     "output_type": "stream",
     "text": [
      "  0%|                                                                                                                                                                             | 0/1561040 [00:00<?, ?it/s]\n"
     ]
    },
    {
     "name": "stdout",
     "output_type": "stream",
     "text": [
      "0\n",
      "True\n"
     ]
    },
    {
     "name": "stderr",
     "output_type": "stream",
     "text": [
      "  0%|                                                                                                                                                                             | 0/1410110 [00:00<?, ?it/s]\n"
     ]
    },
    {
     "name": "stdout",
     "output_type": "stream",
     "text": [
      "0\n",
      "=====================\n",
      "False\n"
     ]
    },
    {
     "name": "stderr",
     "output_type": "stream",
     "text": [
      " 14%|██████████████████████                                                                                                                                            | 8631/63470 [00:01<00:11, 4779.64it/s]\n"
     ]
    },
    {
     "name": "stdout",
     "output_type": "stream",
     "text": [
      "8631000000002\n",
      "True\n"
     ]
    },
    {
     "name": "stderr",
     "output_type": "stream",
     "text": [
      " 10%|███████████████▉                                                                                                                                                  | 5801/58877 [00:01<00:11, 4508.57it/s]\n"
     ]
    },
    {
     "name": "stdout",
     "output_type": "stream",
     "text": [
      "5801000000000\n",
      "=====================\n",
      "False\n"
     ]
    },
    {
     "name": "stderr",
     "output_type": "stream",
     "text": [
      "  0%|                                                                                                                                                                              | 0/340760 [00:00<?, ?it/s]\n"
     ]
    },
    {
     "name": "stdout",
     "output_type": "stream",
     "text": [
      "0\n",
      "True\n"
     ]
    },
    {
     "name": "stderr",
     "output_type": "stream",
     "text": [
      "  0%|                                                                                                                                                                              | 0/396815 [00:00<?, ?it/s]\n"
     ]
    },
    {
     "name": "stdout",
     "output_type": "stream",
     "text": [
      "0\n",
      "=====================\n",
      "False\n"
     ]
    },
    {
     "name": "stderr",
     "output_type": "stream",
     "text": [
      "  0%|                                                                                                                                                                             | 0/7966799 [00:00<?, ?it/s]\n"
     ]
    },
    {
     "name": "stdout",
     "output_type": "stream",
     "text": [
      "1\n",
      "True\n"
     ]
    },
    {
     "name": "stderr",
     "output_type": "stream",
     "text": [
      " 13%|███████████████████▊                                                                                                                                          | 962573/7673099 [03:16<22:48, 4902.53it/s]"
     ]
    },
    {
     "name": "stdout",
     "output_type": "stream",
     "text": [
      "962573\n"
     ]
    },
    {
     "name": "stderr",
     "output_type": "stream",
     "text": [
      "\n"
     ]
    },
    {
     "data": {
      "text/plain": [
       "{'mae': {'Original': 0, 'Featature Engg.': 0},\n",
       " 'mse': {'Original': 8631000000002, 'Featature Engg.': 5801000000000},\n",
       " 'mape': {'Original': 0, 'Featature Engg.': 0},\n",
       " 'rmse': {'Original': 1, 'Featature Engg.': 962573}}"
      ]
     },
     "execution_count": 31,
     "metadata": {},
     "output_type": "execute_result"
    }
   ],
   "source": [
    "# Effect of feature-engg vs normal dataset\n",
    "\n",
    "\n",
    "from tqdm import tqdm\n",
    "metrics_pair = [\n",
    "    [\"test_mae\", \"train_mae\", 1], [\"test_mse\", \"train_mse\", 1000000000], [\"test_mape\", \"train_mape\", 1000000000000], [\"train_rmse\", \"test_rmse\", 100]\n",
    "]\n",
    "aver = {}\n",
    "for metrcs in metrics_pair:\n",
    "    print(\"=====================\")\n",
    "    a, b, step = metrcs\n",
    "    # print(metrcs)\n",
    "    metric_name = a.replace('test_', '').replace('train_', '')\n",
    "    aver[metric_name] = {}\n",
    "    # print(aver)\n",
    "    for model in df.extra_feat.unique():\n",
    "        print(model)\n",
    "        sel = df[df[\"extra_feat\"] == model]\n",
    "        ready = pd.concat([sel[a], sel[b]], axis=0)\n",
    "        # print(ready.describe())\n",
    "        range_1 = None\n",
    "        for u in tqdm(range(int(ready.min()), int(ready.max()), step)):\n",
    "            flag = p_value_stat(ready, mu=u)\n",
    "            if flag and range_1 is None:\n",
    "                range_1 = u\n",
    "                break\n",
    "            last_u = u\n",
    "        aver[metric_name][\"Featature Engg.\" if model else \"Original\"] = range_1\n",
    "        print(range_1)\n",
    "aver"
   ]
  },
  {
   "cell_type": "code",
   "execution_count": 27,
   "id": "6d9220e0-8136-4c22-98ed-57a928ed6241",
   "metadata": {},
   "outputs": [
    {
     "data": {
      "text/html": [
       "<div>\n",
       "<style scoped>\n",
       "    .dataframe tbody tr th:only-of-type {\n",
       "        vertical-align: middle;\n",
       "    }\n",
       "\n",
       "    .dataframe tbody tr th {\n",
       "        vertical-align: top;\n",
       "    }\n",
       "\n",
       "    .dataframe thead th {\n",
       "        text-align: right;\n",
       "    }\n",
       "</style>\n",
       "<table border=\"1\" class=\"dataframe\">\n",
       "  <thead>\n",
       "    <tr style=\"text-align: right;\">\n",
       "      <th></th>\n",
       "      <th>index</th>\n",
       "      <th>Original</th>\n",
       "      <th>Featature Engg.</th>\n",
       "    </tr>\n",
       "  </thead>\n",
       "  <tbody>\n",
       "    <tr>\n",
       "      <th>0</th>\n",
       "      <td>mae</td>\n",
       "      <td>0</td>\n",
       "      <td>0</td>\n",
       "    </tr>\n",
       "    <tr>\n",
       "      <th>1</th>\n",
       "      <td>mse</td>\n",
       "      <td>8631000000002</td>\n",
       "      <td>5801000000000</td>\n",
       "    </tr>\n",
       "    <tr>\n",
       "      <th>2</th>\n",
       "      <td>mape</td>\n",
       "      <td>0</td>\n",
       "      <td>0</td>\n",
       "    </tr>\n",
       "    <tr>\n",
       "      <th>3</th>\n",
       "      <td>rmse</td>\n",
       "      <td>1</td>\n",
       "      <td>962600</td>\n",
       "    </tr>\n",
       "  </tbody>\n",
       "</table>\n",
       "</div>"
      ],
      "text/plain": [
       "  index       Original  Featature Engg.\n",
       "0   mae              0                0\n",
       "1   mse  8631000000002    5801000000000\n",
       "2  mape              0                0\n",
       "3  rmse              1           962600"
      ]
     },
     "execution_count": 27,
     "metadata": {},
     "output_type": "execute_result"
    }
   ],
   "source": [
    "# Effect of feature-engg vs normal dataset \n",
    "d = {'mae': {'Original': 0, 'Featature Engg.': 0},\n",
    " 'mse': {'Original': 8631000000002, 'Featature Engg.': 5801000000000},\n",
    " 'mape': {'Original': 0, 'Featature Engg.': 0},\n",
    " 'rmse': {'Original': 1, 'Featature Engg.': 962600}}\n",
    "xdf = pd.DataFrame(d).T.reset_index()\n",
    "xdf"
   ]
  },
  {
   "cell_type": "code",
   "execution_count": 30,
   "id": "e6d5021f-5768-4581-89d8-c962384490e3",
   "metadata": {},
   "outputs": [
    {
     "data": {
      "image/png": "[encoded data removed]",
      "text/plain": [
       "<Figure size 2000x600 with 4 Axes>"
      ]
     },
     "metadata": {},
     "output_type": "display_data"
    }
   ],
   "source": [
    "plt.figure(figsize=(20, 6))\n",
    "for idx in range(4):\n",
    "    ax=plt.subplot(1,4, idx+1)\n",
    "    ax.set_xlabel(xdf[\"index\"][idx])\n",
    "    if idx==1:\n",
    "        ax.set_title(\"Feature Engg. based Average Error (Hypothesis Testing with p-value method)\\n\")\n",
    "    xdf.iloc[[idx],:].plot.bar(ax=ax, legend=idx==3, xticks=[], cmap=\"Set2\")\n",
    "plt.savefig(\"featureengg-based-hypothesis-testing.png\")"
   ]
  },
  {
   "cell_type": "code",
   "execution_count": null,
   "id": "86d931e6-41c5-442e-b285-0dbf7e3ae474",
   "metadata": {},
   "outputs": [],
   "source": []
  },
  {
   "cell_type": "code",
   "execution_count": null,
   "id": "be3b4abb-35f7-405a-88cb-2e5533539f0d",
   "metadata": {},
   "outputs": [],
   "source": []
  },
  {
   "cell_type": "code",
   "execution_count": null,
   "id": "c443f4bc-1f8e-4895-97d3-db65fbc24f86",
   "metadata": {},
   "outputs": [],
   "source": []
  }
 ],
 "metadata": {
  "kernelspec": {
   "display_name": "Python 3 (ipykernel)",
   "language": "python",
   "name": "python3"
  },
  "language_info": {
   "codemirror_mode": {
    "name": "ipython",
    "version": 3
   },
   "file_extension": ".py",
   "mimetype": "text/x-python",
   "name": "python",
   "nbconvert_exporter": "python",
   "pygments_lexer": "ipython3",
   "version": "3.8.19"
  },
  "widgets": {
   "application/vnd.jupyter.widget-state+json": {
    "state": {},
    "version_major": 2,
    "version_minor": 0
   }
  }
 },
 "nbformat": 4,
 "nbformat_minor": 5
}
