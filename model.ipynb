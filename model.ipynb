{
 "cells": [
  {
   "cell_type": "code",
   "execution_count": 1,
   "id": "70201459-cbff-4d17-8780-04614569b514",
   "metadata": {},
   "outputs": [],
   "source": [
    "import pandas as pd\n",
    "import pathlib\n",
    "import numpy as np\n",
    "import pandas as pd\n",
    "from ydata_profiling import ProfileReport\n",
    "from xgboost import XGBRegressor\n",
    "root_dir = pathlib.Path(r\"./datasets\")\n",
    "from sklearn.metrics import mean_absolute_error, mean_squared_error, mean_absolute_percentage_error"
   ]
  },
  {
   "cell_type": "code",
   "execution_count": 2,
   "id": "b0c8bf64-0d18-4415-915d-07b5636c69cb",
   "metadata": {},
   "outputs": [],
   "source": [
    "# Creating lag features for time-series data\n",
    "\n",
    "def create_lag_features(data, column, lag_steps=3):\n",
    "    for i in range(1, lag_steps + 1):\n",
    "        data[f'lag_{i}'] = data[column].shift(i)\n",
    "\n",
    "    return data\n",
    "\n",
    "\n",
    "# Creating rolling mean for time-series data\n",
    "\n",
    "def create_rolling_mean(data, column, window_size=3):\n",
    "    data['rolling_mean'] = data[column].rolling(window=window_size).mean()\n",
    "\n",
    "    return data\n",
    "\n",
    "\n",
    "# Applying Fourier transformation for capturing seasonality\n",
    "\n",
    "import numpy as np\n",
    "from scipy.fft import fft\n",
    "\n",
    "\n",
    "def apply_fourier_transform(data, column):\n",
    "    values = data[column].values\n",
    "\n",
    "    fourier_transform = fft(values)\n",
    "\n",
    "    data['fourier_transform'] = np.abs(fourier_transform)\n",
    "\n",
    "    return data\n",
    "\n",
    "\n",
    "def split(data, target, train_size=.8):\n",
    "    # Splitting time-series data into training and testing sets\n",
    "\n",
    "    train_size = int(len(data) * train_size)\n",
    "    data = create_lag_features(data, target)\n",
    "    data = create_rolling_mean(data, target)\n",
    "    data = apply_fourier_transform(data, target)\n",
    "    data_train, data_test = data[:train_size], data[train_size:]\n",
    "    y_train = data_train[target]\n",
    "    y_test = data_test[target]\n",
    "    X_train = data_train.drop(columns=[target])\n",
    "    X_test = data_test.drop(columns=[target])\n",
    "    return X_train, X_test, y_train, y_test\n"
   ]
  },
  {
   "cell_type": "code",
   "execution_count": 3,
   "id": "63f144a9-5d3f-4ffd-9a90-1eb16bbd1d56",
   "metadata": {},
   "outputs": [
    {
     "name": "stdout",
     "output_type": "stream",
     "text": [
      "README.md        eda.ipynb        model.ipynb      requirements.txt\n",
      "\u001b[34mdatasets\u001b[m\u001b[m         main.py          \u001b[34mmodels\u001b[m\u001b[m\n"
     ]
    }
   ],
   "source": [
    "!ls ."
   ]
  },
  {
   "cell_type": "code",
   "execution_count": 5,
   "id": "b35a0c74-1dcc-4898-b237-14fee4a11fd2",
   "metadata": {},
   "outputs": [],
   "source": [
    "dfX = pd.read_excel(root_dir / \"online_retail\" / \"online_retail.xlsx\")"
   ]
  },
  {
   "cell_type": "code",
   "execution_count": 6,
   "id": "175d6c72-6c65-457e-96d0-07619fb5bb8b",
   "metadata": {},
   "outputs": [
    {
     "data": {
      "text/html": [
       "<div>\n",
       "<style scoped>\n",
       "    .dataframe tbody tr th:only-of-type {\n",
       "        vertical-align: middle;\n",
       "    }\n",
       "\n",
       "    .dataframe tbody tr th {\n",
       "        vertical-align: top;\n",
       "    }\n",
       "\n",
       "    .dataframe thead th {\n",
       "        text-align: right;\n",
       "    }\n",
       "</style>\n",
       "<table border=\"1\" class=\"dataframe\">\n",
       "  <thead>\n",
       "    <tr style=\"text-align: right;\">\n",
       "      <th></th>\n",
       "      <th>InvoiceNo</th>\n",
       "      <th>StockCode</th>\n",
       "      <th>Description</th>\n",
       "      <th>Quantity</th>\n",
       "      <th>InvoiceDate</th>\n",
       "      <th>UnitPrice</th>\n",
       "      <th>CustomerID</th>\n",
       "      <th>Country</th>\n",
       "    </tr>\n",
       "  </thead>\n",
       "  <tbody>\n",
       "    <tr>\n",
       "      <th>0</th>\n",
       "      <td>536365</td>\n",
       "      <td>85123A</td>\n",
       "      <td>WHITE HANGING HEART T-LIGHT HOLDER</td>\n",
       "      <td>6</td>\n",
       "      <td>2010-12-01 08:26:00</td>\n",
       "      <td>2.55</td>\n",
       "      <td>17850.0</td>\n",
       "      <td>United Kingdom</td>\n",
       "    </tr>\n",
       "    <tr>\n",
       "      <th>1</th>\n",
       "      <td>536365</td>\n",
       "      <td>71053</td>\n",
       "      <td>WHITE METAL LANTERN</td>\n",
       "      <td>6</td>\n",
       "      <td>2010-12-01 08:26:00</td>\n",
       "      <td>3.39</td>\n",
       "      <td>17850.0</td>\n",
       "      <td>United Kingdom</td>\n",
       "    </tr>\n",
       "    <tr>\n",
       "      <th>2</th>\n",
       "      <td>536365</td>\n",
       "      <td>84406B</td>\n",
       "      <td>CREAM CUPID HEARTS COAT HANGER</td>\n",
       "      <td>8</td>\n",
       "      <td>2010-12-01 08:26:00</td>\n",
       "      <td>2.75</td>\n",
       "      <td>17850.0</td>\n",
       "      <td>United Kingdom</td>\n",
       "    </tr>\n",
       "    <tr>\n",
       "      <th>3</th>\n",
       "      <td>536365</td>\n",
       "      <td>84029G</td>\n",
       "      <td>KNITTED UNION FLAG HOT WATER BOTTLE</td>\n",
       "      <td>6</td>\n",
       "      <td>2010-12-01 08:26:00</td>\n",
       "      <td>3.39</td>\n",
       "      <td>17850.0</td>\n",
       "      <td>United Kingdom</td>\n",
       "    </tr>\n",
       "    <tr>\n",
       "      <th>4</th>\n",
       "      <td>536365</td>\n",
       "      <td>84029E</td>\n",
       "      <td>RED WOOLLY HOTTIE WHITE HEART.</td>\n",
       "      <td>6</td>\n",
       "      <td>2010-12-01 08:26:00</td>\n",
       "      <td>3.39</td>\n",
       "      <td>17850.0</td>\n",
       "      <td>United Kingdom</td>\n",
       "    </tr>\n",
       "  </tbody>\n",
       "</table>\n",
       "</div>"
      ],
      "text/plain": [
       "  InvoiceNo StockCode                          Description  Quantity  \\\n",
       "0    536365    85123A   WHITE HANGING HEART T-LIGHT HOLDER         6   \n",
       "1    536365     71053                  WHITE METAL LANTERN         6   \n",
       "2    536365    84406B       CREAM CUPID HEARTS COAT HANGER         8   \n",
       "3    536365    84029G  KNITTED UNION FLAG HOT WATER BOTTLE         6   \n",
       "4    536365    84029E       RED WOOLLY HOTTIE WHITE HEART.         6   \n",
       "\n",
       "          InvoiceDate  UnitPrice  CustomerID         Country  \n",
       "0 2010-12-01 08:26:00       2.55     17850.0  United Kingdom  \n",
       "1 2010-12-01 08:26:00       3.39     17850.0  United Kingdom  \n",
       "2 2010-12-01 08:26:00       2.75     17850.0  United Kingdom  \n",
       "3 2010-12-01 08:26:00       3.39     17850.0  United Kingdom  \n",
       "4 2010-12-01 08:26:00       3.39     17850.0  United Kingdom  "
      ]
     },
     "execution_count": 6,
     "metadata": {},
     "output_type": "execute_result"
    }
   ],
   "source": [
    "df = dfX.copy()\n",
    "# df.dropna(inplace=True)\n",
    "# df.drop(columns=[\"COMMODITY_DESC\", \"SOURCE_ID\", \"ATTRIBUTE_DESC\"], inplace=True)\n",
    "# df.sort_values(by=['YEAR_ID','TIMEPERIOD_ID'], inplace=True)\n",
    "df.head()"
   ]
  },
  {
   "cell_type": "code",
   "execution_count": 15,
   "id": "c9ea87b2-23d4-4bdd-afd2-5a189e6739df",
   "metadata": {},
   "outputs": [
    {
     "data": {
      "text/plain": [
       "((4224,), (541909, 8))"
      ]
     },
     "execution_count": 15,
     "metadata": {},
     "output_type": "execute_result"
    }
   ],
   "source": [
    "df.Description.unique().shape, df.shape"
   ]
  },
  {
   "cell_type": "code",
   "execution_count": 9,
   "id": "5c3c6397-9384-41af-a4cc-a754c3b6569f",
   "metadata": {},
   "outputs": [
    {
     "name": "stdout",
     "output_type": "stream",
     "text": [
      "{'mse': 5357.06769751149, 'rmse': 73.19199203131099, 'mae': 20.18776625117554, 'mape': 0.18307692639181614}\n",
      "feature_importance [0.01638273 0.01484101 0.0229726  0.07031856 0.01387662 0.39997533\n",
      " 0.0455769  0.07927816 0.07821157 0.01330098 0.23668735 0.00857826]\n"
     ]
    }
   ],
   "source": [
    "X_train, X_test, y_train, y_test = split(df, \"AMOUNT\")\n",
    "\n",
    "\n",
    "# create model instance\n",
    "xgb_model = XGBRegressor(eval_metric=[\"rmse\", \"mae\", \"mape\"], enable_categorical=True, random_state=47)\n",
    "# fit model\n",
    "xgb_model.fit(X_train, y_train)\n",
    "# make predictions\n",
    "y_pred = xgb_model.predict(X_test)\n",
    "\n",
    "mae = mean_absolute_error(y_test, y_pred)\n",
    "mse = mean_squared_error(y_test, y_pred)\n",
    "rmse = np.sqrt(mean_squared_error(y_test, y_pred))\n",
    "mape = mean_absolute_percentage_error(y_test, y_pred)\n",
    "print(dict(mse=mse, rmse=rmse, mae=mae, mape=mape))\n",
    "# Displaying feature importance scores\n",
    "print(\"feature_importance\", xgb_model.feature_importances_)"
   ]
  },
  {
   "cell_type": "code",
   "execution_count": null,
   "id": "3f6be2ec-aeab-4f7b-affa-9d216a8a8944",
   "metadata": {},
   "outputs": [],
   "source": []
  }
 ],
 "metadata": {
  "kernelspec": {
   "display_name": ".scm",
   "language": "python",
   "name": ".scm"
  },
  "language_info": {
   "codemirror_mode": {
    "name": "ipython",
    "version": 3
   },
   "file_extension": ".py",
   "mimetype": "text/x-python",
   "name": "python",
   "nbconvert_exporter": "python",
   "pygments_lexer": "ipython3",
   "version": "3.8.19"
  }
 },
 "nbformat": 4,
 "nbformat_minor": 5
}
