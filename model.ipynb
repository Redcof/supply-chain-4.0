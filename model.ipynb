{
 "cells": [
  {
   "cell_type": "code",
   "execution_count": 6,
   "id": "70201459-cbff-4d17-8780-04614569b514",
   "metadata": {},
   "outputs": [
    {
     "name": "stdout",
     "output_type": "stream",
     "text": [
      "total 305296\n",
      "-rw-rw-r--@  1 soumensardar  staff  35703675 Mar 27 23:19 LivestockMeat_Imports.csv\n",
      "-rw-rw-r--@  1 soumensardar  staff  51253380 Mar 27 23:20 Forecasts for Product Demand-base.csv\n",
      "-rw-------@  1 soumensardar  staff  45622278 Mar 27 23:22 online_retail_II.xlsx\n",
      "-rwx------@  1 soumensardar  staff  23715344 Mar 27 23:22 \u001b[31mOnline Retail.xlsx\u001b[m\u001b[m\n",
      "drwx------@  5 soumensardar  staff       160 Mar 27 23:25 \u001b[34mFood Demand Dataset\u001b[m\u001b[m\n",
      "-rw-r--r--@  1 soumensardar  staff      6148 Mar 30 12:10 .DS_Store\n",
      "drwx------@ 14 soumensardar  staff       448 Mar 30 12:43 \u001b[34m..\u001b[m\u001b[m\n",
      "drwxr-xr-x@  8 soumensardar  staff       256 Mar 31 11:23 \u001b[34m.\u001b[m\u001b[m\n",
      "total 36608\n",
      "-rw-rw-r--@ 1 soumensardar  staff  18733819 Mar 27 23:25 train.csv\n",
      "drwx------@ 5 soumensardar  staff       160 Mar 27 23:25 \u001b[34m.\u001b[m\u001b[m\n",
      "drwxr-xr-x@ 6 soumensardar  staff       192 Mar 27 23:25 \u001b[34mnotrequired\u001b[m\u001b[m\n",
      "-rw-r--r--@ 1 soumensardar  staff      6148 Mar 30 12:10 .DS_Store\n",
      "drwxr-xr-x@ 8 soumensardar  staff       256 Mar 31 11:23 \u001b[34m..\u001b[m\u001b[m\n"
     ]
    }
   ],
   "source": [
    "import pandas as pd\n",
    "import pathlib\n",
    "import numpy as np\n",
    "import pandas as pd\n",
    "from ydata_profiling import ProfileReport\n",
    "from xgboost import XGBRegressor\n",
    "!ls -alrt \"/Users/soumensardar/Library/CloudStorage/GoogleDrive-soumensardarintmain@gmail.com/.shortcut-targets-by-id/1zlA8VX-l_IufCZSfJIfxohpsEGrcLx4-/Taniya Paul Thesis paper/writing/Research Proposal/dataset\"\n",
    "!ls -alrt \"/Users/soumensardar/Library/CloudStorage/GoogleDrive-soumensardarintmain@gmail.com/.shortcut-targets-by-id/1zlA8VX-l_IufCZSfJIfxohpsEGrcLx4-/Taniya Paul Thesis paper/writing/Research Proposal/dataset/Food Demand Dataset\"\n",
    "root_dir = pathlib.Path(\"/Users/soumensardar/Library/CloudStorage/GoogleDrive-soumensardarintmain@gmail.com/.shortcut-targets-by-id/1zlA8VX-l_IufCZSfJIfxohpsEGrcLx4-/Taniya Paul Thesis paper/writing/Research Proposal/dataset\")"
   ]
  },
  {
   "cell_type": "code",
   "execution_count": 5,
   "id": "b0c8bf64-0d18-4415-915d-07b5636c69cb",
   "metadata": {},
   "outputs": [],
   "source": [
    "def get_dataset(df, target_col, test_size=.2):\n",
    "    y = df[target_col]\n",
    "    X = df.drop(columns=[target_col])\n",
    "    return train_test_split(X, y, test_size=test_size)"
   ]
  },
  {
   "cell_type": "code",
   "execution_count": null,
   "id": "b35a0c74-1dcc-4898-b237-14fee4a11fd2",
   "metadata": {},
   "outputs": [],
   "source": [
    "df = pd.read_csv(root_dir /\"Forecasts for Product Demand-base.csv\")\n",
    "X_train, X_test, y_train, y_test = get_dataset(df, \"Order_Demand\", .2)\n",
    "\n",
    "\n",
    "# create model instance\n",
    "bst = XGBClassifier(n_estimators=2, max_depth=2, learning_rate=1, objective='binary:logistic')\n",
    "# fit model\n",
    "bst.fit(X_train, y_train)\n",
    "# make predictions\n",
    "preds = bst.predict(X_test)"
   ]
  }
 ],
 "metadata": {
  "kernelspec": {
   "display_name": ".scm",
   "language": "python",
   "name": ".scm"
  },
  "language_info": {
   "codemirror_mode": {
    "name": "ipython",
    "version": 3
   },
   "file_extension": ".py",
   "mimetype": "text/x-python",
   "name": "python",
   "nbconvert_exporter": "python",
   "pygments_lexer": "ipython3",
   "version": "3.8.19"
  }
 },
 "nbformat": 4,
 "nbformat_minor": 5
}
